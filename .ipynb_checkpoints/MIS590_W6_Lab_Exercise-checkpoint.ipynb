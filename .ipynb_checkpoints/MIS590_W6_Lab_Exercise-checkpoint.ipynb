{
 "cells": [
  {
   "cell_type": "markdown",
   "metadata": {
    "id": "u2uZkpZZ00VW"
   },
   "source": [
    "# W6 Lab Exercise\n",
    "This is the lab exercise for MIS590: Information Retrieval. </br>\n",
    "In this lab, you will gain the following experience:</br>\n",
    "- Understand how to fine-tune a pre-trained BERT model for a specific task using a sample dataset.\n",
    "- Apply the fine-tuned BERT model to rank documents based on their relevance to a given query.\n",
    "- Evaluate model performance of the fine-tuned model by comparing its output with expected relevance results.\n",
    "</br>\n",
    "\n",
    "**Note:** When you see a pencil icon ✏️ in this notebook, it's time for you to code or answer the question!"
   ]
  },
  {
   "cell_type": "markdown",
   "metadata": {
    "id": "fbZygDMA1ocl"
   },
   "source": [
    "# 1. Preliminaries"
   ]
  },
  {
   "cell_type": "markdown",
   "metadata": {
    "id": "GiRjdgKlSAyz"
   },
   "source": [
    "## 1.1 Lab Activity Description"
   ]
  },
  {
   "cell_type": "markdown",
   "metadata": {
    "id": "raTYX2wW1sAi"
   },
   "source": [
    "## 1.2 Install and Import Libraries"
   ]
  },
  {
   "cell_type": "code",
   "execution_count": null,
   "metadata": {
    "colab": {
     "base_uri": "https://localhost:8080/",
     "height": 0
    },
    "id": "qboKl1jK2Nrw",
    "outputId": "e5807eab-6687-4616-e892-b6cfa0bb4237"
   },
   "outputs": [],
   "source": [
    "# Install necessary libraries\n",
    "!pip install transformers datasets torch\n",
    "!pip install pytrec_eval\n",
    "!pip install bertviz"
   ]
  },
  {
   "cell_type": "code",
   "execution_count": null,
   "metadata": {
    "id": "WR4xK74O2l-V"
   },
   "outputs": [],
   "source": [
    "import torch\n",
    "from transformers import BertTokenizer, BertForSequenceClassification, Trainer, TrainingArguments, BertModel\n",
    "from datasets import Dataset\n",
    "import random\n",
    "import pytrec_eval\n",
    "import numpy as np\n",
    "import matplotlib.pyplot as plt\n",
    "from sklearn.manifold import TSNE\n",
    "from bertviz import head_view"
   ]
  },
  {
   "cell_type": "markdown",
   "metadata": {
    "id": "WFEmlqQrBCqS"
   },
   "source": [
    "Make sure you are using GPU!"
   ]
  },
  {
   "cell_type": "code",
   "execution_count": null,
   "metadata": {
    "colab": {
     "base_uri": "https://localhost:8080/",
     "height": 0
    },
    "id": "BsL-NSiq5oT8",
    "outputId": "411642f2-cd7b-44e7-a268-68684a567810"
   },
   "outputs": [],
   "source": [
    "# Check if GPU is loaded\n",
    "if torch.cuda.is_available():\n",
    "    device = torch.device(\"cuda\")\n",
    "    print(\"GPU is available and selected as the device.\")\n",
    "else:\n",
    "    device = torch.device(\"cpu\")\n",
    "    print(\"GPU not found, using CPU instead.\")"
   ]
  },
  {
   "cell_type": "markdown",
   "metadata": {
    "id": "Y0h9E_vuBPKm"
   },
   "source": [
    "## 1.3 Input: Query & Document Collections (Corpus)"
   ]
  },
  {
   "cell_type": "code",
   "execution_count": null,
   "metadata": {
    "id": "X1IkESBCBMv1"
   },
   "outputs": [],
   "source": [
    "query = \"sleep deprivation\"\n",
    "corpus = [\n",
    "   \"Sleepless nights in the lab have become my new normal. I tried to fix the experiment setup, but the apparatus seems to have a mind of its own. My advisor says results are just around the corner, but the corner keeps moving. Coffee is my only true companion these days.\",\n",
    "    \"I thought grad school would be intellectually stimulating, but it's mostly paperwork and waiting for emails. The departmental printer jammed again, and now I'm late for a meeting. The cafeteria ran out of the good snacks, so I'm surviving on vending machine chips. Sleep has become a luxury I can no longer afford.\",\n",
    "    \"Writing the dissertation feels like climbing an endless mountain. Every time I finish a chapter, my supervisor suggests new revisions. The impostor syndrome is real, and I wonder if they made a mistake accepting me. Maybe I should have gone to clown college instead. I am utterly deprived of any semblance of a normal life.\",\n",
    "    \"My research data got corrupted, and now I have to start over. The lab mouse escaped, and we spent hours trying to find it. The grant proposal deadline is tomorrow, and the online submission portal is down. At least my pet cactus hasn't died yet.\",\n",
    "    \"The group meeting turned into a three-hour debate over font choices for the presentation. I'm pretty sure my colleague is stealing my lunch from the fridge. The photocopier is out to get me; it never works when I'm in a hurry. Is there a PhD in napping? Because I'd ace that.\",\n",
    "    \"I haven't seen the sun in days due to endless coding sessions. The simulation keeps crashing, and Stack Overflow doesn't have the answers. My roommate thinks I'm a ghost haunting the apartment. Instant noodles have become my primary food group.\",\n",
    "    \"Attending conferences sounded fun until I realized they involve a lot of awkward networking. I accidentally spilled coffee on a famous professor's shoes. My poster fell down twice during the session. Next time, I'll just send a cardboard cutout of myself.\",\n",
    "    \"The university gym membership was supposed to keep me healthy, but I've only used it once. I tried to attend a yoga class after staying up late for a deadline, but I fell asleep during the meditation. Maybe instead of the gym, my bed is more essential for keeping me healthy.\",\n",
    "    \"My teaching assistantship involves grading endless stacks of exams. Students keep emailing me for extensions with creative excuses. One claimed their dog sleeps on the laptop so they cannot use it for the exam. I was deprived of excuses for not completing my dissertation draft, and I might have got some good ones.\",\n",
    "    \"Group projects are the worst when you're the only one doing the work. My team members are as elusive as Bigfoot. The project is due next week, and I haven't heard from them. Perhaps I should just write a paper on the sociological implications of group work avoidance.\"\n",
    "]\n",
    "\n",
    "# Binary labels for the documents' relevancy to the query\n",
    "# Relevant ones: 1, 2, 5, 6, 8\n",
    "example_labels = [1, 1, 0, 0, 1, 1, 0, 1, 0, 0]"
   ]
  },
  {
   "cell_type": "markdown",
   "metadata": {
    "id": "8qdiCud2Bb0L"
   },
   "source": [
    "# 2. IR with Pretrained BERT"
   ]
  },
  {
   "cell_type": "markdown",
   "metadata": {
    "id": "VlR3aNuGDMd2"
   },
   "source": [
    "## 2.1 Load Pre-trained BERT Model"
   ]
  },
  {
   "cell_type": "code",
   "execution_count": null,
   "metadata": {
    "colab": {
     "base_uri": "https://localhost:8080/",
     "height": 0
    },
    "id": "KZddp9ky42B_",
    "outputId": "4edcb7a2-8fe7-4635-e53e-6846ea9f45dc"
   },
   "outputs": [],
   "source": [
    "# Load pre-trained BERT model and tokenizer\n",
    "model_name = 'bert-base-uncased'\n",
    "tokenizer = BertTokenizer.from_pretrained(model_name)\n",
    "model = BertForSequenceClassification.from_pretrained(model_name, num_labels=2, output_hidden_states=True)\n",
    "\n",
    "# Move model to GPU\n",
    "model.to(device)"
   ]
  },
  {
   "cell_type": "markdown",
   "metadata": {
    "id": "PYkNftfbBmS-"
   },
   "source": [
    "### ✏️ Observe the results above and discuss the following:\n",
    "- In our last lab exercise, we load the BERT model using the following line of code: <br />\n",
    "`model = BertModel.from_pretrained(model_name)` <br />\n",
    "However, this time we load BERT using `BertForSequenceClassification`. Can you tell the differences between them? You should be able to see what components are in a BertForSequenceClassification model above."
   ]
  },
  {
   "cell_type": "code",
   "execution_count": null,
   "metadata": {
    "id": "B0wbzkYS_BXq"
   },
   "outputs": [],
   "source": [
    "# Function to generate BERT embeddings for a given text\n",
    "def get_bert_embedding(text):\n",
    "    inputs = tokenizer(text, return_tensors='pt', padding=True, truncation=True, max_length=512)\n",
    "\n",
    "    # Move inputs to GPU\n",
    "    inputs = {k: v.to(device) for k, v in inputs.items()}\n",
    "\n",
    "    # Forward\n",
    "    with torch.no_grad():\n",
    "        outputs = model(**inputs)\n",
    "\n",
    "    # Access the last hidden state and the embedding for the [CLS] token\n",
    "    return outputs.hidden_states[-1][:, 0, :]"
   ]
  },
  {
   "cell_type": "markdown",
   "metadata": {
    "id": "QjLdBiL_n-ZD"
   },
   "source": [
    "### ✏️ Observe the results above and discuss the following:\n",
    "- We access the last hidden state and the embedding for the [CLS] token from `outputs.hidden_states[-1][:, 0, :]`. What is in `outputs.hidden_states`?"
   ]
  },
  {
   "cell_type": "markdown",
   "metadata": {
    "id": "035Gs0o818uo"
   },
   "source": [
    "### ✏️ answer：\n",
    "在 BERT 中，outputs.hidden_states 是一個張量，每個張量對應於 BERT 模型一層的隱藏狀態, 其中包含輸入的每個 transformer 中的隱藏層, 這些隱藏狀態表示輸入文本在通過 BERT 模型的每一層時的中間表示（嵌入）。"
   ]
  },
  {
   "cell_type": "markdown",
   "metadata": {
    "id": "uEmgRQM_DSNP"
   },
   "source": [
    "## 2.2 Compute BERT Embeddings"
   ]
  },
  {
   "cell_type": "code",
   "execution_count": null,
   "metadata": {
    "id": "bUiST30I_Bnd"
   },
   "outputs": [],
   "source": [
    "# Compute BERT embeddings for the query\n",
    "query_embedding = get_bert_embedding(query)\n",
    "\n",
    "# Compute BERT embeddings for each document in the corpus\n",
    "corpus_embeddings = [get_bert_embedding(doc) for doc in corpus]"
   ]
  },
  {
   "cell_type": "markdown",
   "metadata": {
    "id": "fKdENZkADV6M"
   },
   "source": [
    "### Measuring similarity: cosine similarity"
   ]
  },
  {
   "cell_type": "code",
   "execution_count": null,
   "metadata": {
    "id": "TVyGoLdR_Bn6"
   },
   "outputs": [],
   "source": [
    "# Function to compute cosine similarity between two vectors\n",
    "def cosine_similarity(vec1, vec2):\n",
    "    vec1 = vec1.numpy()\n",
    "    vec2 = vec2.numpy()\n",
    "    dot_product = np.dot(vec1, vec2.T)\n",
    "    norm1 = np.linalg.norm(vec1)\n",
    "    norm2 = np.linalg.norm(vec2)\n",
    "\n",
    "    if norm1 == 0 or norm2 == 0:\n",
    "        return 0.0\n",
    "    return dot_product / (norm1 * norm2)"
   ]
  },
  {
   "cell_type": "markdown",
   "metadata": {
    "id": "TyeOiJDJDYUB"
   },
   "source": [
    "### Rank the documents using cosine similarity"
   ]
  },
  {
   "cell_type": "code",
   "execution_count": null,
   "metadata": {
    "colab": {
     "base_uri": "https://localhost:8080/",
     "height": 0
    },
    "id": "X81w3EH__Iwi",
    "outputId": "199ff867-c387-484e-e40b-f833ab9c4124"
   },
   "outputs": [],
   "source": [
    "# Rank documents based on similarity to the query\n",
    "rankings_BERT = []\n",
    "\n",
    "for idx, doc_embedding in enumerate(corpus_embeddings):\n",
    "    # Move the embeddings back to cpu so we can compute their cosine similarity\n",
    "    score = cosine_similarity(query_embedding[0].cpu(), doc_embedding[0].cpu())\n",
    "    rankings_BERT.append((idx + 1, score))\n",
    "\n",
    "# Sort documents by similarity score in descending order\n",
    "rankings_BERT_srt = sorted(rankings_BERT, key=lambda x: x[1], reverse=True)\n",
    "\n",
    "# Print document rankings\n",
    "print(\"Document Rankings based on BERT embeddings:\")\n",
    "for rank, (doc_idx, score) in enumerate(rankings_BERT_srt, start=1):\n",
    "    print(f\"Rank {rank}: Document {doc_idx} with score {score}\")"
   ]
  },
  {
   "cell_type": "markdown",
   "metadata": {
    "id": "esOHeAnWDaEz"
   },
   "source": [
    "## 2.3 Measure Performance"
   ]
  },
  {
   "cell_type": "markdown",
   "metadata": {
    "id": "N77qxyHEDgrv"
   },
   "source": [
    "### Average Precision"
   ]
  },
  {
   "cell_type": "code",
   "execution_count": null,
   "metadata": {
    "colab": {
     "base_uri": "https://localhost:8080/",
     "height": 0
    },
    "id": "c4dXeZ-y_JAd",
    "outputId": "68e96d5f-eaf0-48a4-83cf-81aa3020ed3d"
   },
   "outputs": [],
   "source": [
    "# Compute Average Precision (AP) using pytrec_eval package\n",
    "\n",
    "# Define relevance judgments. These are the documents that are actually relevant to the query\n",
    "qrel = {\n",
    "    'q1': {\n",
    "        'doc1': 1,\n",
    "        'doc2': 1,\n",
    "        'doc5': 1,\n",
    "        'doc6': 1,\n",
    "        'doc8': 1\n",
    "    }\n",
    "}\n",
    "\n",
    "# Define retrieval results with scores, ensuring scores are native Python floats, not numpy floats\n",
    "q1 = {\"doc\"+str(i+1): float(rankings_BERT[i][1]) for i in range(0,10)}\n",
    "\n",
    "# Define retrieval results with scores\n",
    "run = {\n",
    "    'q1': q1\n",
    "}\n",
    "\n",
    "evaluator = pytrec_eval.RelevanceEvaluator(qrel, {'map'})\n",
    "results = evaluator.evaluate(run)\n",
    "print(f\"Average Precision (pytrec_eval): {results['q1']['map']:.4f}\")"
   ]
  },
  {
   "cell_type": "markdown",
   "metadata": {
    "id": "COPjKc2nRIay"
   },
   "source": [
    "### ✏️ Observe the results above and discuss the following:\n",
    "- What is the difference between this AP score and that computed by sklearn.metric.average_precision_score?"
   ]
  },
  {
   "cell_type": "markdown",
   "metadata": {
    "id": "ENGFKuk63Zo-"
   },
   "source": [
    "### ✏️ Answer：\n",
    "由 pytrec_eval 計算的AP評估文檔的整個排名，這意味著不僅相關文檔很重要，而且它們出現的順序也很重要。排名較高的相關文件將對AP分數做出更積極的貢獻。\n",
    "平均精度均值 （MAP）：它計算排名清單中每個相關文件位置的精度，並取這些精度值的平均值。\n",
    "sklearn.metrics.average_precision_score 中的AP分主要用於二元分類任務,  評估二元分類的精度-召回率曲線，側重於基於分數的閾值，而不是顯式閾值"
   ]
  },
  {
   "cell_type": "markdown",
   "metadata": {
    "id": "hCNRvhm0HRIl"
   },
   "source": [
    "# 3. IR with Fine-Tuned BERT\n",
    "\n"
   ]
  },
  {
   "cell_type": "markdown",
   "metadata": {
    "id": "EtTTjfvKFxYm"
   },
   "source": [
    "## 3.1 Load the corpus for fine-tuning"
   ]
  },
  {
   "cell_type": "markdown",
   "metadata": {
    "id": "Q6hEi2hsF69R"
   },
   "source": [
    "### We will be using two different datasets during the fine-tuning process\n",
    "\n",
    "*   **Training dataset:** For tuning the parameters of BERT.\n",
    "*   **Evaluation dataset:** For choosing the best fine-tuned model.\n",
    "\n",
    "**✏️ Upload Corpus.tsv and Eval.tsv**\n"
   ]
  },
  {
   "cell_type": "code",
   "execution_count": null,
   "metadata": {
    "id": "iCPnQaZQ6MSd"
   },
   "outputs": [],
   "source": [
    "# Load training corpus and label\n",
    "corpus_FT = []\n",
    "labels = []\n",
    "\n",
    "with open(\"./Corpus.tsv\", \"r\") as f:\n",
    "    for line in f.readlines():\n",
    "      parts = line.strip().split(\"\\t\")\n",
    "\n",
    "      if len(parts) == 2:\n",
    "          corpus_FT.append(parts[0])\n",
    "          labels.append(int(parts[1]))"
   ]
  },
  {
   "cell_type": "code",
   "execution_count": null,
   "metadata": {
    "id": "drV_RmTMziMX"
   },
   "outputs": [],
   "source": [
    "# Load eval dataset\n",
    "eval_corpus = []\n",
    "eval_labels = []\n",
    "\n",
    "with open(\"./Eval.tsv\", \"r\") as f:\n",
    "    for line in f.readlines():\n",
    "      parts = line.strip().split(\"\\t\")\n",
    "\n",
    "      if len(parts) == 2:\n",
    "          eval_corpus.append(parts[0])\n",
    "          eval_labels.append(int(parts[1]))"
   ]
  },
  {
   "cell_type": "code",
   "execution_count": null,
   "metadata": {
    "colab": {
     "base_uri": "https://localhost:8080/",
     "height": 0
    },
    "id": "xvkgLoCF_YSv",
    "outputId": "0599b865-2414-4e36-cc0b-a65781304aca"
   },
   "outputs": [],
   "source": [
    "print(f\"Number of training instances: {len(corpus_FT)}\")\n",
    "print(f\"Number of evaluation instances: {len(eval_corpus)}\")\n"
   ]
  },
  {
   "cell_type": "markdown",
   "metadata": {
    "id": "d4fHC_dcOzfC"
   },
   "source": [
    "### ✏️ Observe the results above and discuss the following:\n",
    "- How many instances are there in the training set?\n",
    "- How many are there in the evaluation set?\n",
    "- Why is one of the dataset significantly larger than another?"
   ]
  },
  {
   "cell_type": "markdown",
   "metadata": {
    "id": "XdYUz1Hr_QYY"
   },
   "source": [
    "### ✏️ Answer：\n",
    "Number of training instances: 127\n",
    "\n",
    "Number of evaluation instances: 20\n",
    "\n",
    "訓練集通常會比驗證集或測試集還大，因為模型需要大量的數據來學習跟泛化，而評估數據只是用來評估模型性能"
   ]
  },
  {
   "cell_type": "code",
   "execution_count": null,
   "metadata": {
    "colab": {
     "base_uri": "https://localhost:8080/",
     "height": 81,
     "referenced_widgets": [
      "658972eaadaa46248f8fd59de05668d0",
      "7dba608d4d744c1f9bc2df17ecf7c700",
      "0c846fe3ac68476196ad9681b581dc6d",
      "e4f6a4aff5084b6f96ce5ea14e789a0f",
      "0864fc0c8d3941b39bff91800755e82a",
      "52d04aab3bf345baa623abd89575a4e8",
      "d2528d8574734286be0e2d0b330bbd1f",
      "3c0a4fc0b3034513b7a8d0fb365e134b",
      "89b62ebf9794441eaa6a902fb4785655",
      "e1e09c147ba74ffe82d0f885b6436e27",
      "71cefcdede144179b96cfb6a7950cb92",
      "675739fa5caf49ac9586ec63bc0f4450",
      "1799b195a91740e1a2dead18d9cff0f3",
      "a561e9e2106d4243ac746c590332984d",
      "64b71eb43118422bb3b8d228893dabef",
      "bf9ad2565a7d46c2bf2549c8545be63c",
      "b0e3d014cf7e4b869dac4f5a226520f9",
      "3b0882814731425098a43a061174e492",
      "d73d82cf092a4b51a07c5f6aca44941a",
      "77cde63be2204d0cb642e2bc4589c0f4",
      "e09d46c60ea447369e92dd29985e3c35",
      "f03e5527e50c45baa3018b832d3354a3"
     ]
    },
    "id": "AinwCfdl6Mig",
    "outputId": "5b0d4ae7-d665-4fd9-9425-b89b40e24430"
   },
   "outputs": [],
   "source": [
    "def tokenize_function(examples):\n",
    "    return tokenizer(examples['text'], padding=\"max_length\", truncation=True, max_length=512)\n",
    "\n",
    "# Prepare dataset\n",
    "data = {'text': corpus_FT, 'label': labels}\n",
    "dataset = Dataset.from_dict(data)\n",
    "tokenized_dataset = dataset.map(tokenize_function, batched=True)\n",
    "\n",
    "# Prepare evaluation dataset\n",
    "eval_data = {'text': eval_corpus, 'label': eval_labels}\n",
    "eval_dataset = Dataset.from_dict(eval_data)\n",
    "tokenized_eval_dataset = eval_dataset.map(tokenize_function, batched=True)"
   ]
  },
  {
   "cell_type": "markdown",
   "metadata": {
    "id": "j41vjGmQPNn4"
   },
   "source": [
    "## 3.2 Fine-Tune BERT"
   ]
  },
  {
   "cell_type": "code",
   "execution_count": null,
   "metadata": {
    "colab": {
     "base_uri": "https://localhost:8080/",
     "height": 683
    },
    "id": "c8sVyy3g6YR0",
    "outputId": "afd1ce45-4fcd-4aad-e28a-78df625838d1"
   },
   "outputs": [],
   "source": [
    "# Fine-Tune BERT\n",
    "\n",
    "eval_step = 10\n",
    "\n",
    "# Set up the arguements for fine-tuning\n",
    "training_args = TrainingArguments(\n",
    "    output_dir='./results', # Output directory\n",
    "    num_train_epochs=3, # Number of training epochs\n",
    "    per_device_train_batch_size=4, # Batch size for training\n",
    "    per_device_eval_batch_size=8, # Batch size for evaluation\n",
    "    warmup_steps=10, # Number of warmup steps\n",
    "    weight_decay=0.01, # We will assign the gradient smaller and smaller weights as the training goes\n",
    "    logging_dir='./logs', # Log directory\n",
    "    logging_steps=eval_step, # Log every eval_steps\n",
    "    evaluation_strategy=\"steps\", # Evaluate every eval_steps\n",
    "    eval_steps=eval_step,  # Evaluate every 10 steps\n",
    "    save_strategy=\"steps\", # Save every eval_steps\n",
    "    save_steps=eval_step, # Save every 10 steps\n",
    "    load_best_model_at_end=True, # Load the best model at the end of training\n",
    "    metric_for_best_model=\"loss\" # Definition of the best model: lowest eval loss\n",
    ")\n",
    "\n",
    "# Initialize the trainer\n",
    "trainer = Trainer(\n",
    "    model=model, # Model to be fine-tuned\n",
    "    args=training_args,\n",
    "    train_dataset=tokenized_dataset,\n",
    "    eval_dataset=tokenized_eval_dataset\n",
    ")\n",
    "\n",
    "# Start the fine-tuning process\n",
    "trainer.train()"
   ]
  },
  {
   "cell_type": "markdown",
   "metadata": {
    "id": "0RTPOFpJQlVo"
   },
   "source": [
    "### ✏️ Observe the results above and discuss the following:\n",
    "- What do the outputs indicate?\n",
    "- Why are there 96 training steps in total?\n",
    "- How do the different arguments affect the fine-tuning process?\n",
    "- Explore the content of the `./results` directory. There are 10 models named `./results/checkpoint-xx`. Why are they generated? Why do we want to save these intermediate models instead of just using the final one (i.e., `./results/checkpoint-96`)?\n",
    "- Explore the content of the `./logs` directory. What information has been recorded?"
   ]
  },
  {
   "cell_type": "markdown",
   "metadata": {
    "id": "NY1eC56cBWEl"
   },
   "source": [
    "### ✏️ Answer：\n",
    "\n",
    "1.What do the outputs indicate?\n",
    "\n",
    "Training Loss：在訓練集上計算的損失，模型從學習過程中，逐漸降低，表示模型預測越來越接近訓練集中的ground truth。\n",
    "\n",
    "Validation Loss：在驗證集上計算的損失。這是評估模型對沒看過的數據泛化程度的關鍵指標。驗證損失的穩定下降表示模型沒有過擬合，並且正在改進對訓練期間沒看過的預測。\n",
    "\n",
    "Global Step：表示模型在訓練期間經歷的步數。每步處理小批量的數據。\n",
    "\n",
    "Final Training Loss: 0.2206，所有訓練的平均損失為0.2206。\n",
    "\n",
    "運行時指標：這些指標包括train_samples_per_second、train_steps_per_second和總train_runtime。這些指標提供了對進行過程的效率。\n",
    "\n",
    "2.Why are there 96 training steps in total?\n",
    "\n",
    "指定了 num_train_epochs=3，per_device_train_batch_size=4，表示每步處理 4 個樣本，steps_per_epoch = $$\\frac{N}{batch\\_size}$$\n",
    "$$total\\_steps = steps\\_per\\_epoch * num\\_train\\_epochs = (32/4)*3*3$$\n",
    "\n",
    "3. How do the different arguments affect the fine-tuning process?\n",
    "\n",
    "num_train_epochs=3: 模型在數據集上訓練 3 次完整傳遞，足以在不過擬合有好的性能。\n",
    "\n",
    "per_device_train_batch_size=4: 設置模型在訓練期間在每次前向和後向傳遞中處理的樣本數。較小的批量大小允許更頻繁的更新。\n",
    "\n",
    "eval_steps=10:該模型每 10 步評估一次驗證數據集，允許您在訓練期間定期監控性能。\n",
    "\n",
    "save_steps=10: 每 10 步保存一個檢查點，從而保存多個中間模型。\n",
    "\n",
    "load_best_model_at_end=True: 訓練完成後，將載入驗證損失最低的模型，確保使用的是性能最高的模型版本。\n",
    "\n",
    "4. Explore the content of the ./results directory\n",
    "\n",
    "./results 目錄包含在訓練過程的不同步驟（例如，checkpoint-10、checkpoint-20、...、checkpoint-96）保存的模型檢查點：\n",
    "\n",
    "Model Weights：模型在特定步驟，採用 PyTorch 的形式（例如 pytorch_model.bin）。\n",
    "\n",
    "Optimizer State：優化器的狀態（例如，optimizer.pt），如果您想稍後恢復訓練，這很有用。\n",
    "\n",
    "Training Configuration: 訓練參數和模型配置保存在 training_args.bin 和 config.json 中。\n",
    "\n",
    "且保存中間模型可以從中斷的checkpoint繼續不用從頭計算，然後也可以提前停止，加上不一定最好的模型是最後一個，可以只保存過程中最好的模型。\n",
    "\n",
    "5. Explore the content of the ./logs directory\n",
    "\n",
    "./logs 目錄包含訓練過程的日誌。記錄的資訊型態可能包括：\n",
    "\n",
    "Training and Validation Loss：不同步驟和 epoch 的 Loss 值。\n",
    "\n",
    "Evaluation Metrics:例如準確率、F1 分數\n",
    "\n",
    "Hyperparameters: 訓練期間使用的超參數的記錄（批量大小、學習率等）。\n",
    "\n",
    "Time and Performance Metrics ：有關運行時、每秒步數和其他性能相關指標的資訊。\n",
    "\n",
    "可以從以上指標去監控訓練過程並根據結果做改善或改參數，也可以從中看到過程遇到的問題。"
   ]
  },
  {
   "cell_type": "markdown",
   "metadata": {
    "id": "lt-mMy8gRjYW"
   },
   "source": [
    "## 3.3 Implement IR with Fine-Tuned BERT"
   ]
  },
  {
   "cell_type": "code",
   "execution_count": null,
   "metadata": {
    "id": "7nBvKbH_8IUX"
   },
   "outputs": [],
   "source": [
    "# Compute BERT embeddings for the query\n",
    "query_embedding_FT = get_bert_embedding(query)\n",
    "\n",
    "# Compute BERT embeddings for each document in the corpus\n",
    "corpus_embeddings_FT = [get_bert_embedding(doc) for doc in corpus]"
   ]
  },
  {
   "cell_type": "code",
   "execution_count": null,
   "metadata": {
    "colab": {
     "base_uri": "https://localhost:8080/",
     "height": 0
    },
    "id": "wIAuQ8ZN-B7B",
    "outputId": "13143272-afdf-439f-e4df-1baf082a9062"
   },
   "outputs": [],
   "source": [
    "# Rank documents based on similarity to the query\n",
    "rankings_BERT_FT = []\n",
    "for idx, doc_embedding in enumerate(corpus_embeddings_FT):\n",
    "    score = cosine_similarity(query_embedding_FT[0].cpu(), doc_embedding[0].cpu())\n",
    "    rankings_BERT_FT.append((idx + 1, score))\n",
    "\n",
    "# Sort documents by similarity score in descending order\n",
    "rankings_BERT_FT_srt = sorted(rankings_BERT_FT, key=lambda x: x[1], reverse=True)\n",
    "\n",
    "# Print document rankings\n",
    "print(\"Document Rankings based on BERT embeddings:\")\n",
    "for rank, (doc_idx, score) in enumerate(rankings_BERT_FT_srt, start=1):\n",
    "    print(f\"Rank {rank}: Document {doc_idx} with score {score}\")"
   ]
  },
  {
   "cell_type": "code",
   "execution_count": null,
   "metadata": {
    "colab": {
     "base_uri": "https://localhost:8080/",
     "height": 0
    },
    "id": "UVuc6NSu9VQK",
    "outputId": "037be17b-596a-4c9b-b35c-0ad118808e23"
   },
   "outputs": [],
   "source": [
    "# Define relevance judgments\n",
    "qrel = {\n",
    "    'q1': {\n",
    "        'doc1': 1,\n",
    "        'doc2': 1,\n",
    "        'doc5': 1,\n",
    "        'doc6': 1,\n",
    "        'doc8': 1\n",
    "    }\n",
    "}\n",
    "\n",
    "# Define retrieval results with scores, ensuring scores are native Python floats\n",
    "q1 = {\"doc\"+str(i+1): float(rankings_BERT_FT[i][1]) for i in range(0,10)} # Convert scores to float\n",
    "# Define retrieval results with scores\n",
    "run = {\n",
    "    'q1': q1\n",
    "}\n",
    "\n",
    "evaluator = pytrec_eval.RelevanceEvaluator(qrel, {'map'})\n",
    "results = evaluator.evaluate(run)\n",
    "print(f\"Average Precision (pytrec_eval): {results['q1']['map']:.4f}\")"
   ]
  },
  {
   "cell_type": "markdown",
   "metadata": {
    "id": "6RSovAJGZcXk"
   },
   "source": [
    "### ✏️ Observe the results above and discuss the following:\n",
    "- Does the fine-tuned BERT model outperform the pre-trained BERT model in the IR task?\n",
    "- If it does, why do you think the results turned out this way?\n",
    "- In this lab exercise, we fine-tune the BERT model with 127 documents, which is relatively small training set. Try fine-tuning the model with `Corpus_long.tsv` or ask ChatGPT to generate some more corpus to fine-tune with. Do more training data enhance IR performance?"
   ]
  },
  {
   "cell_type": "code",
   "execution_count": null,
   "metadata": {
    "colab": {
     "base_uri": "https://localhost:8080/",
     "height": 632,
     "referenced_widgets": [
      "3393aa38fcf34772a6bf874aeb5c236a",
      "e459f8f697f54db192a14c107ee6119c",
      "0b1537566cd84d87be343aa61ac00935",
      "faf47a95e632470da062d8908f6f8910",
      "79d9df94e9d44fe889cc5a1d8a82636f",
      "3c883a89c56e4351ba3440819a83fb85",
      "c000f3843acb4572ab9f26b3da9b5622",
      "2fbb189b6a0d4ea481cc11aaccbb4e70",
      "7211fb311cd74bf4a566d87ae1514a1e",
      "a744f63b9527428e8c35a78baa505438",
      "a4489a40e5a541d0b3573c8736a5cb04"
     ]
    },
    "id": "xEjMOzhpKICl",
    "outputId": "49fef5b8-af63-4941-9666-d6151cea929d"
   },
   "outputs": [],
   "source": [
    "corpus_FT_long = []\n",
    "labels_long = []\n",
    "\n",
    "with open(\"./Corpus_long.tsv\", \"r\") as f:\n",
    "    for line in f.readlines():\n",
    "        parts = line.strip().split(\"\\t\")\n",
    "        if len(parts) == 2:\n",
    "            corpus_FT_long.append(parts[0])\n",
    "            labels_long.append(int(parts[1]))\n",
    "\n",
    "# Prepare the dataset\n",
    "data_long = {'text': corpus_FT_long, 'label': labels_long}\n",
    "dataset_long = Dataset.from_dict(data_long)\n",
    "tokenized_dataset_long = dataset_long.map(tokenize_function, batched=True)\n",
    "\n",
    "trainer_long = Trainer(\n",
    "    model=model,  # Fine-tuned model\n",
    "    args=training_args,  # Same training arguments\n",
    "    train_dataset=tokenized_dataset_long,  # Tokenized larger dataset\n",
    "    eval_dataset=tokenized_eval_dataset  # Same evaluation dataset\n",
    ")\n",
    "\n",
    "# Fine-tune the model\n",
    "trainer_long.train()\n"
   ]
  },
  {
   "cell_type": "markdown",
   "metadata": {
    "id": "f3Tc-VsPJlf8"
   },
   "source": [
    "### ✏️ Answer：\n",
    "\n",
    "微調後的 BERT 模型在 IR 任務中的性能明顯優於預訓練的 BERT 模型。微調模型的平均精度 （AP） 分數為 0.9667，遠高於微調前的典型 AP 分數。微調使模型能夠更好地捕捉查詢和相關文檔之間的關係，從而提高相關文檔的排名。\n",
    "\n",
    "特定於任務的監督：通過使用相關性標籤（1 表示相關，0 表示不相關）訓練模型，BERT 可以學習特定於任務的細微差別，例如哪些文檔特徵最有可能促進特定查詢的相關性，提高了模型的精度。\n",
    "\n",
    "適應數據集：微調過程使模型適應您的特定數據集。儘管訓練集相對較小（127 個文檔），但 BERT 學會了根據這些數據更好地區分相關和不相關的文檔。\n",
    "\n",
    "較大數據集的影響：\n",
    "更多訓練數據添加更大的數據集使模型能夠對更多樣化的樣本進行訓練，這可能會導致更強大的特徵學習和更好的泛化。"
   ]
  },
  {
   "cell_type": "markdown",
   "metadata": {
    "id": "EkbQFjr6Z7zV"
   },
   "source": [
    "# 4. Analysis"
   ]
  },
  {
   "cell_type": "markdown",
   "metadata": {
    "id": "uTmlaAs1aenN"
   },
   "source": [
    "## 4.1 Visualizing The Distribution of Embeddings\n"
   ]
  },
  {
   "cell_type": "markdown",
   "metadata": {
    "id": "ZJqSTsz6ao6S"
   },
   "source": [
    "Let's observe how fine-tuning change the documents and query are represented in the vector space."
   ]
  },
  {
   "cell_type": "code",
   "execution_count": null,
   "metadata": {
    "colab": {
     "base_uri": "https://localhost:8080/",
     "height": 398
    },
    "id": "LMZBZmfqlk0c",
    "outputId": "b6b101ae-7892-4d8a-bae8-c331a665b92e"
   },
   "outputs": [],
   "source": [
    "# Combine query and document embeddings (before fine-tuning)\n",
    "all_embeddings_before = [query_embedding] + corpus_embeddings\n",
    "# Combine query and document embeddings (after fine-tuning)\n",
    "all_embeddings_after = [query_embedding_FT] + corpus_embeddings_FT\n",
    "\n",
    "# Concatenate all embeddings and move them to CPU for further processing\n",
    "all_embeddings_before_tensor = torch.cat(all_embeddings_before, dim=0).cpu()  # Concatenate and move to CPU\n",
    "all_embeddings_after_tensor = torch.cat(all_embeddings_after, dim=0).cpu()  # Concatenate and move to CPU\n",
    "\n",
    "# Create labels where 0 corresponds to the query, and the rest to documents\n",
    "all_labels = [0] + example_labels  # Add a label for the query (e.g., 0)\n",
    "\n",
    "# Apply t-SNE to reduce the dimensionality of embeddings to 2D for visualization\n",
    "tsne = TSNE(n_components=2, random_state=42, perplexity=5)\n",
    "embeddings_before_2d = tsne.fit_transform(all_embeddings_before_tensor.numpy())  # Embeddings before fine-tuning in 2D\n",
    "embeddings_after_2d = tsne.fit_transform(all_embeddings_after_tensor.numpy())  # Embeddings after fine-tuning in 2D\n",
    "\n",
    "# Extract query and document embeddings (before and after fine-tuning) for plotting\n",
    "query_embedding_before_2d = embeddings_before_2d[0]  # Query embedding before fine-tuning\n",
    "corpus_embeddings_before_2d = embeddings_before_2d[1:]  # Document embeddings before fine-tuning\n",
    "\n",
    "query_embedding_after_2d = embeddings_after_2d[0]  # Query embedding after fine-tuning\n",
    "corpus_embeddings_after_2d = embeddings_after_2d[1:]  # Document embeddings after fine-tuning\n",
    "\n",
    "# Plot the embeddings before and after fine-tuning side by side\n",
    "plt.figure(figsize=(12, 6))\n",
    "\n",
    "# Plot for embeddings before fine-tuning\n",
    "plt.subplot(1, 2, 1)\n",
    "scatter = plt.scatter(corpus_embeddings_before_2d[:, 0], corpus_embeddings_before_2d[:, 1], c=example_labels, label='Documents')  # Plot documents\n",
    "plt.scatter(query_embedding_before_2d[0], query_embedding_before_2d[1], c='red', marker='*', s=100, label='Query')  # Highlight the query embedding\n",
    "plt.title('Before Fine-tuning')  # Add title\n",
    "\n",
    "\n",
    "# Plot for embeddings after fine-tuning\n",
    "plt.subplot(1, 2, 2)\n",
    "scatter = plt.scatter(corpus_embeddings_after_2d[:, 0], corpus_embeddings_after_2d[:, 1], c=example_labels, label='Documents')  # Plot documents\n",
    "plt.scatter(query_embedding_after_2d[0], query_embedding_after_2d[1], c='red', marker='*', s=100, label='Query')  # Highlight the query embedding\n",
    "plt.title('After Fine-tuning')  # Add title\n",
    "\n",
    "# Add a legend to show which colors correspond to which labels\n",
    "legend1 = plt.legend(*scatter.legend_elements(),\n",
    "                    loc=\"lower left\", title=\"Classes\")\n",
    "plt.gca().add_artist(legend1)\n",
    "\n",
    "# Display the plot\n",
    "plt.show()"
   ]
  },
  {
   "cell_type": "markdown",
   "metadata": {
    "id": "22zBUU76a1JB"
   },
   "source": [
    "### ✏️ Observe the results above and discuss the following:\n",
    "- According to the visualization, can you infer why fine-tuning leads to better IR results?\n",
    "- What is t-SNE? What does it do?\n",
    "\n",
    "從可視化效果中，右側的圖表（“微調後”）顯示了兩個類（0和1）之間更明顯的分離。屬於不同類（由不同顏色表示）的點分佈更遠，這表明模型在微調後已經學會了更好地區分它們，這種分離可以進行更準確的分類，有助於改進資訊檢索 （IR） 結果，相反，在微調之前，這些點更加混合，這使得模型更難正確分類它們，表示特定點的紅色星號在微調空間中的位置更清晰，表示特徵表示效果更好。\n",
    "\n",
    "t-SNE是一種降維技術，主要用於可視化高維數據。它將數據縮減為 2D 或 3D，同時保留點之間的局部關係。功能：t-SNE 映射相似的數據點、在低維空間中靠得很近的數據點和相距很遠的異點。它對於可視化深度學習模型的結果以及瞭解模型在訓練後對不同類進行聚類或分類的情況特別有用。在上面的繪圖中，t-SNE 已被用於將數據的高維投影到 2D 空間中以進行可視化，它有助於顯示微調後不同類的改進聚類，直觀地驗證模型改進的性能。\n",
    "\n"
   ]
  },
  {
   "cell_type": "markdown",
   "metadata": {
    "id": "5XiaIjxhbj_y"
   },
   "source": [
    "## 4.2 Visualizing The Attention"
   ]
  },
  {
   "cell_type": "markdown",
   "metadata": {
    "id": "JB56AdPvbnKi"
   },
   "source": [
    "Let's use the following setence as example:"
   ]
  },
  {
   "cell_type": "code",
   "execution_count": null,
   "metadata": {
    "id": "_T4X5GFuqgst"
   },
   "outputs": [],
   "source": [
    "vis_sent = \"I pulled another all-nighter trying to finish this project. Coffee has become my best friend.\""
   ]
  },
  {
   "cell_type": "markdown",
   "metadata": {
    "id": "eklPYZlFcKfl"
   },
   "source": [
    "### Visualizing Attention from Fine-Tuned BERT"
   ]
  },
  {
   "cell_type": "code",
   "execution_count": null,
   "metadata": {
    "colab": {
     "base_uri": "https://localhost:8080/",
     "height": 565
    },
    "id": "LahvmWIjmqy0",
    "outputId": "5e6d9737-3611-421a-d4da-98739c12e26f"
   },
   "outputs": [],
   "source": [
    "# Input text for visualization\n",
    "input_text = vis_sent\n",
    "\n",
    "# Tokenize the input text\n",
    "inputs = tokenizer.encode_plus(input_text, return_tensors='pt', add_special_tokens=True)\n",
    "input_ids = inputs['input_ids']\n",
    "token_type_ids = inputs.get('token_type_ids')\n",
    "attention_mask = inputs.get('attention_mask')\n",
    "\n",
    "# Move inputs to the appropriate device (GPU if available)\n",
    "input_ids = input_ids.to(device)\n",
    "token_type_ids = token_type_ids.to(device) if token_type_ids is not None else None\n",
    "attention_mask = attention_mask.to(device) if attention_mask is not None else None\n",
    "\n",
    "# Get model outputs, ensuring to get attention weights\n",
    "# The key change is here: output_attentions=True\n",
    "outputs = model(input_ids, token_type_ids=token_type_ids, attention_mask=attention_mask, output_attentions=True)\n",
    "attention = outputs.attentions  # Access attention weights from the outputs\n",
    "\n",
    "# Get the tokens for visualization\n",
    "tokens = tokenizer.convert_ids_to_tokens(input_ids[0])\n",
    "\n",
    "# Visualize attention\n",
    "head_view(attention, tokens)"
   ]
  },
  {
   "cell_type": "markdown",
   "metadata": {
    "id": "CLzOvMracbEo"
   },
   "source": [
    "### Visualizing Attention from Pretrained BERT"
   ]
  },
  {
   "cell_type": "markdown",
   "metadata": {
    "id": "EjSrNLIDcdmO"
   },
   "source": [
    "Load the pretrained BERT again (`model` has now been fine-tuned)"
   ]
  },
  {
   "cell_type": "code",
   "execution_count": null,
   "metadata": {
    "colab": {
     "base_uri": "https://localhost:8080/",
     "height": 0
    },
    "id": "_GL2UOL4nsLt",
    "outputId": "0a460436-fef4-48b6-ccd8-ce1937777acf"
   },
   "outputs": [],
   "source": [
    "model_pre = BertForSequenceClassification.from_pretrained(model_name, num_labels=2, output_hidden_states=True)  # Adjust num_labels as needed\n",
    "model_pre.to(device)"
   ]
  },
  {
   "cell_type": "code",
   "execution_count": null,
   "metadata": {
    "colab": {
     "base_uri": "https://localhost:8080/",
     "height": 565
    },
    "id": "T052qACFoZrF",
    "outputId": "5e17b69e-ca75-407b-ae4a-317846245854"
   },
   "outputs": [],
   "source": [
    "# Input text for visualization\n",
    "input_text = vis_sent\n",
    "\n",
    "# Tokenize the input text\n",
    "inputs = tokenizer.encode_plus(input_text, return_tensors='pt', add_special_tokens=True)\n",
    "input_ids = inputs['input_ids']\n",
    "token_type_ids = inputs.get('token_type_ids')\n",
    "attention_mask = inputs.get('attention_mask')\n",
    "\n",
    "# Move inputs to the appropriate device (GPU if available)\n",
    "input_ids = input_ids.to(device)\n",
    "token_type_ids = token_type_ids.to(device) if token_type_ids is not None else None\n",
    "attention_mask = attention_mask.to(device) if attention_mask is not None else None\n",
    "\n",
    "# Get model outputs, ensuring to get attention weights\n",
    "# The key change is here: output_attentions=True\n",
    "outputs = model_pre(input_ids, token_type_ids=token_type_ids, attention_mask=attention_mask, output_attentions=True)\n",
    "attention = outputs.attentions  # Access attention weights from the outputs\n",
    "\n",
    "# Get the tokens for visualization\n",
    "tokens = tokenizer.convert_ids_to_tokens(input_ids[0])\n",
    "\n",
    "# Visualize attention\n",
    "head_view(attention, tokens)"
   ]
  },
  {
   "cell_type": "markdown",
   "metadata": {
    "id": "L-I-iSiLcpQS"
   },
   "source": [
    "### ✏️ Observe the results above and discuss the following:\n",
    "- How can we read this diagram?\n",
    "\n",
    "Tokens：輸入句子中的標記軸表示（水平或垂直）。這些是 BERT 從句子中標記化的單詞或子詞。例如\"Coffee has become my best friend.\"，則會出現 ”Coffee“、”project“ 和 ”friend“ 等。\n",
    "\n",
    "每個 attention head 可以專注於句子的不同部分，這意味著每個 head 都學會了關注不同的標記關係。可視化可以選擇要顯示的組合。\n",
    "\n",
    "在 BERT 模型的不同層之間切換, 早期的層關注較低層次的句法關係，而後面的層次關注更多的語義關係。\n",
    "\n",
    "- What are the words that contribute the most to the relevance classification tasl?\n",
    "\n",
    "\"pulled\" , another, all, trying, to , best, friend\n",
    "\n",
    "- How are the attention scores change after fine-tuning?\n",
    "\n",
    "微調的BERT：注意力更加集中在與任務相關的標記上, 對於相關性分類任務，注意力將轉移到對確定文檔相關性至關重要的標記上"
   ]
  },
  {
   "cell_type": "markdown",
   "metadata": {
    "id": "XAUxtE0LdA0h"
   },
   "source": [
    "# Assignment 2"
   ]
  },
  {
   "cell_type": "markdown",
   "metadata": {
    "id": "ltfP-WmYkK61"
   },
   "source": [
    "## 1. Discussion Questions"
   ]
  },
  {
   "cell_type": "markdown",
   "metadata": {
    "id": "MmWD4umXm3O3"
   },
   "source": [
    "Answer the discussion questions above (those with ✏️ icon)."
   ]
  },
  {
   "cell_type": "markdown",
   "metadata": {
    "id": "nUu28wAakRW7"
   },
   "source": [
    "## 2. Diving Deeper into Model Fine-Tuning Analysis"
   ]
  },
  {
   "cell_type": "markdown",
   "metadata": {
    "id": "5ZbuhUUqdCmr"
   },
   "source": [
    "Refer to the following work that investigate BERT's behavior post fine-tuning:\n",
    "\n",
    "```\n",
    "    Yichu Zhou and Vivek Srikumar. 2022. A Closer Look at How Fine-tuning Changes BERT. In Proceedings of the 60th Annual Meeting of the Association for Computational Linguistics (Volume 1: Long Papers), pages 1046–1061, Dublin, Ireland. Association for Computational Linguistics.\n",
    "```\n",
    "\n",
    "In Section 4 Observations and Analysis, the authors show several obsevation on how fine-tuning changes BERT. Try to replicate **at least two** of their analysis in 4.1 to 4.3 and see if their discovery aligns with yours.<br />"
   ]
  },
  {
   "cell_type": "code",
   "execution_count": null,
   "metadata": {
    "colab": {
     "base_uri": "https://localhost:8080/",
     "height": 0
    },
    "id": "jp020h3xyx3L",
    "outputId": "dfc6f06b-ba0a-4dcd-d2cc-dbc26b837d7d"
   },
   "outputs": [],
   "source": [
    "!pip install bertviz"
   ]
  },
  {
   "cell_type": "code",
   "execution_count": null,
   "metadata": {
    "colab": {
     "base_uri": "https://localhost:8080/",
     "height": 3988
    },
    "id": "rhovZpWGueZs",
    "outputId": "cf2f78c1-b0ab-4619-a08d-c297e7288e03"
   },
   "outputs": [],
   "source": [
    "import torch\n",
    "import numpy as np\n",
    "from scipy.stats import pearsonr\n",
    "from sklearn.metrics.pairwise import cosine_similarity, euclidean_distances\n",
    "from bertviz import head_view\n",
    "from transformers import BertTokenizer, BertModel\n",
    "\n",
    "# Load the fine-tuned model from the saved checkpoint (best model)\n",
    "model_finetuned = BertModel.from_pretrained('./results/checkpoint-96')\n",
    "\n",
    "# Move the model to the appropriate device (GPU/CPU)\n",
    "device = torch.device(\"cuda\" if torch.cuda.is_available() else \"cpu\")\n",
    "model_finetuned.to(device)\n",
    "\n",
    "# Load the tokenizer (same as during training)\n",
    "tokenizer = BertTokenizer.from_pretrained('bert-base-uncased')\n",
    "\n",
    "# Function to compute Pearson correlation of distances between two sets of embeddings\n",
    "def compute_spatial_similarity(embeddings_train, embeddings_test):\n",
    "    # Ensure the embeddings are stacked into a uniform 2D array\n",
    "    embeddings_train = np.vstack(embeddings_train)  # Stack into 2D numpy array\n",
    "    embeddings_test = np.vstack(embeddings_test)    # Stack into 2D numpy array\n",
    "\n",
    "    # Ensure train and test have the same number of samples (truncate or oversample as needed)\n",
    "    min_len = min(len(embeddings_train), len(embeddings_test))\n",
    "    embeddings_train = embeddings_train[:min_len]\n",
    "    embeddings_test = embeddings_test[:min_len]\n",
    "\n",
    "    # Now compute distances\n",
    "    distances_train = euclidean_distances(embeddings_train)\n",
    "    distances_test = euclidean_distances(embeddings_test)\n",
    "\n",
    "    # Flatten distances and ensure both are the same length\n",
    "    distances_train_flat = distances_train.flatten()\n",
    "    distances_test_flat = distances_test.flatten()\n",
    "\n",
    "    # Compute Pearson correlation\n",
    "    correlation, _ = pearsonr(distances_train_flat, distances_test_flat)\n",
    "    return correlation\n",
    "\n",
    "# Extract embeddings from the BERT model for a dataset\n",
    "def get_embeddings(dataset, model, tokenizer):\n",
    "    embeddings = []\n",
    "    for text in dataset:\n",
    "        inputs = tokenizer.encode_plus(text, return_tensors='pt', truncation=True, max_length=512)\n",
    "        input_ids = inputs['input_ids'].to(device)\n",
    "        with torch.no_grad():\n",
    "            outputs = model(input_ids)\n",
    "        embeddings.append(outputs.last_hidden_state[0].cpu().numpy())  # Use last hidden state or [CLS] token\n",
    "    return embeddings\n",
    "\n",
    "# Spatial Similarity Analysis (4.1)\n",
    "def analyze_spatial_similarity(train_dataset, test_dataset, model_finetuned, tokenizer):\n",
    "    # Get embeddings for fine-tuned model\n",
    "    finetune_train_embs = get_embeddings(train_dataset, model_finetuned, tokenizer)\n",
    "    finetune_test_embs = get_embeddings(test_dataset, model_finetuned, tokenizer)\n",
    "\n",
    "    # Compute spatial similarity for fine-tuned model\n",
    "    similarity_post = compute_spatial_similarity(finetune_train_embs, finetune_test_embs)\n",
    "\n",
    "    print(f\"Spatial Similarity (Fine-tuned): {similarity_post:.4f}\")\n",
    "\n",
    "# Function to extract embeddings for a specific token\n",
    "def get_token_embedding(text, model, tokenizer, token):\n",
    "    inputs = tokenizer.encode_plus(text, return_tensors='pt', truncation=True, max_length=512)\n",
    "    input_ids = inputs['input_ids'].to(device)\n",
    "\n",
    "    with torch.no_grad():\n",
    "        outputs = model(input_ids)\n",
    "\n",
    "    tokens = tokenizer.convert_ids_to_tokens(input_ids[0])\n",
    "    token_idx = tokens.index(token)  # Get index of the token you want to analyze\n",
    "    token_embedding = outputs.last_hidden_state[0][token_idx].cpu().numpy()  # Extract the token's embedding\n",
    "\n",
    "    return token_embedding\n",
    "\n",
    "# Embedding Shift Analysis (4.3)\n",
    "def analyze_embedding_shifts(query_text, model_finetuned, tokenizer, token):\n",
    "    finetuned_emb = get_token_embedding(query_text, model_finetuned, tokenizer, token)\n",
    "    print(f\"Token embedding for '{token}' after fine-tuning: {finetuned_emb}\")\n",
    "\n",
    "# Function to get attention weights for a given text\n",
    "def get_attention_weights(text, model, tokenizer):\n",
    "    inputs = tokenizer.encode_plus(text, return_tensors='pt', truncation=True, max_length=512)\n",
    "    input_ids = inputs['input_ids'].to(device)\n",
    "    outputs = model(input_ids, output_attentions=True)\n",
    "    attention = outputs.attentions  # Get attention weights\n",
    "    return attention, input_ids\n",
    "\n",
    "# Attention Pattern Visualization (4.2)\n",
    "def visualize_attention_patterns(query_text, model_finetuned, tokenizer):\n",
    "    attention_finetuned, input_ids_finetuned = get_attention_weights(query_text, model_finetuned, tokenizer)\n",
    "\n",
    "    tokens_finetuned = tokenizer.convert_ids_to_tokens(input_ids_finetuned[0])\n",
    "\n",
    "    print(\"Fine-tuned BERT Attention\")\n",
    "    head_view(attention_finetuned, tokens_finetuned)\n",
    "\n",
    "# Main Execution\n",
    "if __name__ == \"__main__\":\n",
    "    # Replace 'corpus_FT' and 'eval_corpus' with your actual datasets\n",
    "    train_dataset = corpus_FT[:100]  # Use your actual training set\n",
    "    test_dataset = eval_corpus[:30]  # Use your actual test set\n",
    "    query_text = \"I pulled another all-nighter trying to finish this project. Coffee has become my best friend.\"\n",
    "    token = 'pulled'\n",
    "\n",
    "    # Load fine-tuned model and tokenizer\n",
    "    analyze_spatial_similarity(train_dataset, test_dataset, model_finetuned, tokenizer)\n",
    "    analyze_embedding_shifts(query_text, model_finetuned, tokenizer, token)\n",
    "    visualize_attention_patterns(query_text, model_finetuned, tokenizer)\n"
   ]
  },
  {
   "cell_type": "markdown",
   "metadata": {
    "id": "rlv5LdYRttWL"
   },
   "source": [
    "## 3. **Bonus Question:** Cross-Encoder IR with BERT"
   ]
  },
  {
   "cell_type": "markdown",
   "metadata": {
    "id": "kYQD-AfNt1he"
   },
   "source": [
    "In our previous and current lab activity, we simply use BERT as an encoder to obtain query and document representations. We then rank the documents based on their cosine similarity to the query. This is called a **bi-encoder** or **dual encoder** structure. There is another structure called a **cross encoder**, where we do not learn the representations of the query and document separately. Instead, we concatenate them together as a single input to BERT, and classify the resulting representation as a relevant or irrelevant sentence pair. An illustration of the two encoders is shown below:<br />\n",
    "![1_10NJ3HZRDKHHJNKTwlEuCw.png](data:image/png;base64,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)"
   ]
  },
  {
   "cell_type": "markdown",
   "metadata": {
    "id": "2LWT16Tzvajq"
   },
   "source": [
    "Implement a cross-encoder IR system using BERT. Fine-tune the model and compare its performance to the bi-encoder IR system."
   ]
  },
  {
   "cell_type": "code",
   "execution_count": null,
   "metadata": {
    "colab": {
     "base_uri": "https://localhost:8080/",
     "height": 259
    },
    "id": "DjCIJt0V5Qhc",
    "outputId": "0f689fb1-ab8e-42c7-a63b-d6066969d13a"
   },
   "outputs": [],
   "source": [
    "import torch\n",
    "from transformers import BertTokenizer, BertForSequenceClassification, Trainer, TrainingArguments\n",
    "from datasets import Dataset\n",
    "\n",
    "# Load tokenizer and model\n",
    "model_name = \"bert-base-uncased\"\n",
    "tokenizer = BertTokenizer.from_pretrained(model_name)\n",
    "model = BertForSequenceClassification.from_pretrained(model_name, num_labels=2)\n",
    "\n",
    "device = torch.device(\"cuda\" if torch.cuda.is_available() else \"cpu\")\n",
    "model.to(device)\n",
    "\n",
    "# Define a function to concatenate the query and document as a single input\n",
    "def encode_query_document_pairs(query, documents):\n",
    "    inputs = []\n",
    "    for doc in documents:\n",
    "        combined_text = query + \" [SEP] \" + doc\n",
    "        encoded = tokenizer.encode_plus(\n",
    "            combined_text,\n",
    "            return_tensors=\"pt\",\n",
    "            max_length=512,\n",
    "            padding=\"max_length\",\n",
    "            truncation=True\n",
    "        )\n",
    "        inputs.append(encoded)\n",
    "    return inputs\n",
    "\n",
    "# Example data (query and document pairs)\n",
    "query = \"What are the effects of sleep deprivation?\"\n",
    "documents = [\n",
    "    \"Sleep deprivation has been linked to various health issues.\",\n",
    "    \"The sky is blue and clear today.\",\n",
    "    \"Chronic lack of sleep can lead to serious health conditions.\"\n",
    "]\n",
    "\n",
    "# Encode query-document pairs\n",
    "encoded_pairs = encode_query_document_pairs(query, documents)\n",
    "\n",
    "# Create dataset with labels (1 for relevant, 0 for irrelevant)\n",
    "data = {\n",
    "    'input_ids': [pair['input_ids'][0] for pair in encoded_pairs],\n",
    "    'attention_mask': [pair['attention_mask'][0] for pair in encoded_pairs],\n",
    "    'label': [1, 0, 1]  # Assume the first and third documents are relevant\n",
    "}\n",
    "\n",
    "dataset = Dataset.from_dict(data)\n",
    "\n",
    "# Prepare for fine-tuning\n",
    "training_args = TrainingArguments(\n",
    "    output_dir='./cross_encoder_results',\n",
    "    num_train_epochs=3,\n",
    "    per_device_train_batch_size=4,\n",
    "    per_device_eval_batch_size=8,\n",
    "    warmup_steps=10,\n",
    "    weight_decay=0.01,\n",
    "    logging_dir='./logs',\n",
    "    logging_steps=10,\n",
    "    evaluation_strategy=\"steps\",\n",
    "    eval_steps=10,\n",
    "    save_steps=10,\n",
    "    load_best_model_at_end=True\n",
    ")\n",
    "\n",
    "# Define trainer\n",
    "trainer = Trainer(\n",
    "    model=model,\n",
    "    args=training_args,\n",
    "    train_dataset=dataset,\n",
    "    eval_dataset=dataset  # You would use a separate evaluation set here\n",
    ")\n",
    "\n",
    "# Fine-tune the model\n",
    "trainer.train()\n"
   ]
  },
  {
   "cell_type": "code",
   "execution_count": null,
   "metadata": {
    "colab": {
     "base_uri": "https://localhost:8080/",
     "height": 0
    },
    "id": "oPPwQWKm6xfn",
    "outputId": "b367af08-837e-4092-d3ab-317db9b73703"
   },
   "outputs": [],
   "source": [
    "# Function to rank documents using the fine-tuned cross-encoder model\n",
    "def rank_documents_cross_encoder(query, documents, model, tokenizer):\n",
    "    scores = []\n",
    "    for idx, doc in enumerate(documents):\n",
    "        combined_text = query + \" [SEP] \" + doc\n",
    "        inputs = tokenizer(combined_text, return_tensors=\"pt\", max_length=512, truncation=True, padding=True)\n",
    "        inputs = {k: v.to(device) for k, v in inputs.items()}  # Move to the same device as the model\n",
    "        with torch.no_grad():\n",
    "            outputs = model(**inputs)\n",
    "        score = outputs.logits[0][1].item()  # Take the score for the relevant class (1)\n",
    "        scores.append((idx, score))\n",
    "    return sorted(scores, key=lambda x: x[1], reverse=True)\n",
    "\n",
    "query = \"What are the effects of sleep deprivation?\"\n",
    "documents = [\n",
    "    \"Sleep deprivation has been linked to various health issues.\",\n",
    "    \"The sky is blue and clear today.\",\n",
    "    \"Chronic lack of sleep can lead to serious health conditions.\"\n",
    "]\n",
    "\n",
    "# Rank documents based on the query using the cross-encoder\n",
    "rankings_cross_encoder = rank_documents_cross_encoder(query, documents, model, tokenizer)\n",
    "print(\"Cross-Encoder Rankings:\", rankings_cross_encoder)\n"
   ]
  },
  {
   "cell_type": "code",
   "execution_count": null,
   "metadata": {
    "id": "mNlcEUWM60nF"
   },
   "outputs": [],
   "source": [
    "def get_bert_embedding(text, model, tokenizer):\n",
    "    inputs = tokenizer.encode_plus(text, return_tensors='pt', truncation=True, max_length=512, padding=True)\n",
    "    input_ids = inputs['input_ids'].to(device)\n",
    "\n",
    "    with torch.no_grad():\n",
    "        outputs = model(input_ids, output_hidden_states=True)\n",
    "\n",
    "    if outputs.hidden_states:\n",
    "        return outputs.hidden_states[-1][:, 0, :].cpu().numpy()  # Move to CPU before converting to NumPy\n",
    "    elif hasattr(outputs, 'last_hidden_state'):\n",
    "        return outputs.last_hidden_state[:, 0, :].cpu().numpy()  # Fallback to last_hidden_state\n"
   ]
  },
  {
   "cell_type": "code",
   "execution_count": null,
   "metadata": {
    "colab": {
     "base_uri": "https://localhost:8080/",
     "height": 0
    },
    "id": "CsyzANku7Cf2",
    "outputId": "f2731d86-fddc-43a4-e4b0-64efbf1a4bb8"
   },
   "outputs": [],
   "source": [
    "from sklearn.metrics.pairwise import cosine_similarity\n",
    "\n",
    "# Get the 2D embeddings for the [CLS] token for both query and documents\n",
    "query_embedding = get_bert_embedding(query, model, tokenizer)  # Shape should be (1, hidden_size)\n",
    "document_embeddings = [get_bert_embedding(doc, model, tokenizer) for doc in documents]  # Each should be (1, hidden_size)\n",
    "\n",
    "# Now compute cosine similarity using the flattened embeddings (2D arrays)\n",
    "rankings_bi_encoder = [\n",
    "    (i, cosine_similarity([query_embedding.flatten()], [doc_embedding.flatten()])[0][0])\n",
    "    for i, doc_embedding in enumerate(document_embeddings)\n",
    "]\n",
    "\n",
    "# Sort the rankings by similarity score\n",
    "rankings_bi_encoder = sorted(rankings_bi_encoder, key=lambda x: x[1], reverse=True)\n",
    "\n",
    "print(\"Bi-Encoder Rankings:\", rankings_bi_encoder)\n"
   ]
  },
  {
   "cell_type": "code",
   "execution_count": null,
   "metadata": {
    "colab": {
     "base_uri": "https://localhost:8080/",
     "height": 0
    },
    "id": "y0ABiIa68OqC",
    "outputId": "4d7c3635-58ba-4704-ee81-8858300f11a9"
   },
   "outputs": [],
   "source": [
    "def compute_mrr(rankings, relevance_labels):\n",
    "    for rank, (doc_idx, score) in enumerate(rankings, start=1):\n",
    "        if relevance_labels[doc_idx] == 1:  # If document is relevant\n",
    "            return 1 / rank\n",
    "    return 0\n",
    "\n",
    "relevance_labels = [1, 0, 1]  # Document 0 and 2 are relevant\n",
    "\n",
    "mrr_bi_encoder = compute_mrr(rankings_bi_encoder, relevance_labels)\n",
    "mrr_cross_encoder = compute_mrr(rankings_cross_encoder, relevance_labels)\n",
    "\n",
    "print(f\"Bi-Encoder MRR: {mrr_bi_encoder}\")\n",
    "print(f\"Cross-Encoder MRR: {mrr_cross_encoder}\")\n"
   ]
  },
  {
   "cell_type": "markdown",
   "metadata": {
    "id": "qg3WItTGjWqb"
   },
   "source": [
    "## 💻 Assignment Submission 💻\n",
    "Write your code and display the results in this Jupyter Notebook. Then, export it as an HTML file and submit both the Jupyter Notebook and the HTML file to Cyber University. (I will show you how to download this notebook and export HTML in class) </br>\n",
    "**Please ensure that the code is executed and the outputs are visible when exporting the HTML file.**"
   ]
  }
 ],
 "metadata": {
  "accelerator": "GPU",
  "colab": {
   "gpuType": "A100",
   "machine_shape": "hm",
   "provenance": []
  },
  "kernelspec": {
   "display_name": "Python 3 (ipykernel)",
   "language": "python",
   "name": "python3"
  },
  "language_info": {
   "codemirror_mode": {
    "name": "ipython",
    "version": 3
   },
   "file_extension": ".py",
   "mimetype": "text/x-python",
   "name": "python",
   "nbconvert_exporter": "python",
   "pygments_lexer": "ipython3",
   "version": "3.9.19"
  }
 },
 "nbformat": 4,
 "nbformat_minor": 1
}
