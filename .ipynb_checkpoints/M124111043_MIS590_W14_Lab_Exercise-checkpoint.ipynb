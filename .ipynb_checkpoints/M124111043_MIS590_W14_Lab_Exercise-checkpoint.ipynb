{
 "cells": [
  {
   "cell_type": "markdown",
   "metadata": {
    "id": "oB2inK4mWx7v"
   },
   "source": [
    "# W14 Lab Exercise\n",
    "This is the lab exercise for MIS590: Information Retrieval. </br>\n",
    "In this lab, you will gain the following experience:</br>\n",
    "- Understand how to load an open-source large language model (LLM)\n",
    "- Inference with the LLM.\n",
    "</br>\n",
    "\n",
    "**Note:** When you see a pencil icon ✏️ in this notebook, it's time for you to code or answer the question!"
   ]
  },
  {
   "cell_type": "markdown",
   "metadata": {
    "id": "N0ONwzjxYaAI"
   },
   "source": [
    "# 1. Preliminaries\n",
    "## 1.1 Install and Import Libraries"
   ]
  },
  {
   "cell_type": "code",
   "execution_count": 1,
   "metadata": {
    "id": "W4z6lLpQX5L9"
   },
   "outputs": [],
   "source": [
    "from IPython.display import HTML, display\n",
    "\n",
    "def set_css():\n",
    "  display(HTML('''\n",
    "  <style>\n",
    "    pre {\n",
    "        white-space: pre-wrap;\n",
    "    }\n",
    "  </style>\n",
    "  '''))\n",
    "get_ipython().events.register('pre_run_cell', set_css)"
   ]
  },
  {
   "cell_type": "code",
   "execution_count": 3,
   "metadata": {
    "colab": {
     "base_uri": "https://localhost:8080/",
     "height": 17
    },
    "collapsed": true,
    "id": "W4gbGhEpirfT",
    "outputId": "278fcc5e-d1d8-44c2-969e-6c3e654c52b8"
   },
   "outputs": [
    {
     "data": {
      "text/html": [
       "\n",
       "  <style>\n",
       "    pre {\n",
       "        white-space: pre-wrap;\n",
       "    }\n",
       "  </style>\n",
       "  "
      ],
      "text/plain": [
       "<IPython.core.display.HTML object>"
      ]
     },
     "metadata": {},
     "output_type": "display_data"
    }
   ],
   "source": [
    "%%capture\n",
    "!pip install unsloth\n",
    "# Also get the latest nightly Unsloth!\n",
    "!pip uninstall unsloth -y && pip install --upgrade --no-cache-dir \"unsloth[colab-new] @ git+https://github.com/unslothai/unsloth.git\""
   ]
  },
  {
   "cell_type": "code",
   "execution_count": 5,
   "metadata": {
    "colab": {
     "base_uri": "https://localhost:8080/",
     "height": 35
    },
    "id": "wnISvHIRxDkj",
    "outputId": "356929fb-79fd-4702-8f00-2431f6d5bdad"
   },
   "outputs": [
    {
     "data": {
      "text/html": [
       "\n",
       "  <style>\n",
       "    pre {\n",
       "        white-space: pre-wrap;\n",
       "    }\n",
       "  </style>\n",
       "  "
      ],
      "text/plain": [
       "<IPython.core.display.HTML object>"
      ]
     },
     "metadata": {},
     "output_type": "display_data"
    },
    {
     "name": "stdout",
     "output_type": "stream",
     "text": [
      "Requirement already satisfied: tqdm in /usr/local/lib/python3.10/dist-packages (4.66.6)\n"
     ]
    }
   ],
   "source": [
    "!pip install tqdm"
   ]
  },
  {
   "cell_type": "code",
   "execution_count": 6,
   "metadata": {
    "colab": {
     "base_uri": "https://localhost:8080/",
     "height": 53
    },
    "id": "RH4rGjQrYkaJ",
    "outputId": "af7ef859-8b24-49f3-f537-df817aa68e4b"
   },
   "outputs": [
    {
     "data": {
      "text/html": [
       "\n",
       "  <style>\n",
       "    pre {\n",
       "        white-space: pre-wrap;\n",
       "    }\n",
       "  </style>\n",
       "  "
      ],
      "text/plain": [
       "<IPython.core.display.HTML object>"
      ]
     },
     "metadata": {},
     "output_type": "display_data"
    },
    {
     "name": "stdout",
     "output_type": "stream",
     "text": [
      "🦥 Unsloth: Will patch your computer to enable 2x faster free finetuning.\n",
      "🦥 Unsloth Zoo will now patch everything to make training faster!\n"
     ]
    }
   ],
   "source": [
    "import pandas as pd\n",
    "import json\n",
    "import random\n",
    "from tqdm import tqdm\n",
    "import torch\n",
    "from unsloth import FastLanguageModel\n",
    "from transformers import TextStreamer"
   ]
  },
  {
   "cell_type": "markdown",
   "metadata": {
    "id": "JPPQ3WBnYqIS"
   },
   "source": [
    "## 1.2 Model Setup"
   ]
  },
  {
   "cell_type": "code",
   "execution_count": 7,
   "metadata": {
    "colab": {
     "base_uri": "https://localhost:8080/",
     "height": 286,
     "referenced_widgets": [
      "c81f9c9244334612a87db3320a767025",
      "fa2be917efa240d783d0bf132b4d5eb6",
      "249042850d3241728e31aa4f60fd4236",
      "7af6a2b77fa54c1db2ef3b95c7fb6494",
      "0ac38ab3f76446e4a9accbfcf5f7a22c",
      "98960a297ebb4e81842f69d54133f456",
      "3e03b7d036024d83b02bf5f4341ef208",
      "65ff869326c847d39e6525c9a7571f4b",
      "417c49cb543f4baba38c592f03151544",
      "8b058bcdf7e741f0b57616451b7e0fee",
      "2e38aef231b64eea94343356d0acc105",
      "a2291eaf0a534fdaa6f492b39090aa72",
      "1caebb31f45d4df2891f04cf63f8f401",
      "5764aed1227941c693f0636f5b91cb83",
      "2706d332ca98475fa0b491a9ec075c1f",
      "0c7177aa0d2e4291afa325ef2d54e0df",
      "f190a7c1cf774567b279dff870a862a2",
      "925466e1d0e642dcaaf199faa4bd45d2",
      "a1f0cf45b8dc4873887cf3b38377c077",
      "ff90fe9a82c74c44b0edb5ea0fbeae3c",
      "6a05364e4f334d1385aaa8e767361834",
      "71df109a0bcd429ab9634ac1eda82ea6",
      "68a91bcc691c4c498ba79725f96ba371",
      "8d264845136b4de491dd65f51e4df118",
      "ff2c6ea706694aa9ad9ed65119a3229c",
      "0aa29ba5ead6467bb292b1e64d61c477",
      "1f69afac3a244e7c9738653d9649a454",
      "33e514ebefae426093f41d80ccb1e526",
      "91972fc900324128ac62eb99a24f5338",
      "b203b89489094319b1355dcd2c58b454",
      "f5047ad4fd62442b806047ad487ba0a9",
      "e56f8eb27d634f38b13c78d726221056",
      "aa55a408fdfb48df94cec95eb6afbf65",
      "440eac9b54ab496c8756d8b4173eedfa",
      "605c0b2d73e94c41814d5881cc24458b",
      "142facee0b2f4844b9efb070abb25e6b",
      "4e7a0a5919fd497b857d29cf9cd3d4c3",
      "6d6f9fcf8bbd4329a51b58d9c9697011",
      "cdc6a02218704332b7a0e985c533aa7b",
      "4cbedcfc26114d2c9c5691a0bce958e8",
      "3ff37e6e6e614a8ea19cfe06752a50d3",
      "fe64b3862093455e8b3a359e941c866d",
      "a127108da2544223a48e63d0112b84ec",
      "8212f04433bd4067b7852b3e3d4cc6fa",
      "56fcdf42fbd34a4c87d6a9f0fad34829",
      "67279c901fea492aa8d78c51218f9d53",
      "e8647fa759c442b4b4918a591231a8fe",
      "17fd3c430ca14ff0b96eb7bbf8892edd",
      "b5ae7a4269ac447987c4cc9d3b19c437",
      "c3bc258fbcd34d54887746fea02296f4",
      "b00e042491ef45b59aa67e7b12e81ea3",
      "95971e30611843faac8c5e99ce40e21e",
      "bd2bf6a2116b4e008eb2eb25b3c84747",
      "af3e4ad869664683a2f119f2542cb3f5",
      "2b5593f8a411497a860d543e5f895459"
     ]
    },
    "id": "hUKQ-w_UkvMX",
    "outputId": "0087439c-5c7a-447e-ebb5-7048410787d3"
   },
   "outputs": [
    {
     "data": {
      "text/html": [
       "\n",
       "  <style>\n",
       "    pre {\n",
       "        white-space: pre-wrap;\n",
       "    }\n",
       "  </style>\n",
       "  "
      ],
      "text/plain": [
       "<IPython.core.display.HTML object>"
      ]
     },
     "metadata": {},
     "output_type": "display_data"
    },
    {
     "name": "stdout",
     "output_type": "stream",
     "text": [
      "==((====))==  Unsloth 2024.12.4: Fast Llama patching. Transformers:4.46.3.\n",
      "   \\\\   /|    GPU: Tesla T4. Max memory: 14.748 GB. Platform: Linux.\n",
      "O^O/ \\_/ \\    Torch: 2.5.1+cu121. CUDA: 7.5. CUDA Toolkit: 12.1. Triton: 3.1.0\n",
      "\\        /    Bfloat16 = FALSE. FA [Xformers = 0.0.28.post3. FA2 = False]\n",
      " \"-____-\"     Free Apache license: http://github.com/unslothai/unsloth\n",
      "Unsloth: Fast downloading is enabled - ignore downloading bars which are red colored!\n"
     ]
    },
    {
     "data": {
      "application/vnd.jupyter.widget-view+json": {
       "model_id": "c81f9c9244334612a87db3320a767025",
       "version_major": 2,
       "version_minor": 0
      },
      "text/plain": [
       "model.safetensors:   0%|          | 0.00/5.70G [00:00<?, ?B/s]"
      ]
     },
     "metadata": {},
     "output_type": "display_data"
    },
    {
     "data": {
      "application/vnd.jupyter.widget-view+json": {
       "model_id": "a2291eaf0a534fdaa6f492b39090aa72",
       "version_major": 2,
       "version_minor": 0
      },
      "text/plain": [
       "generation_config.json:   0%|          | 0.00/234 [00:00<?, ?B/s]"
      ]
     },
     "metadata": {},
     "output_type": "display_data"
    },
    {
     "data": {
      "application/vnd.jupyter.widget-view+json": {
       "model_id": "68a91bcc691c4c498ba79725f96ba371",
       "version_major": 2,
       "version_minor": 0
      },
      "text/plain": [
       "tokenizer_config.json:   0%|          | 0.00/55.4k [00:00<?, ?B/s]"
      ]
     },
     "metadata": {},
     "output_type": "display_data"
    },
    {
     "data": {
      "application/vnd.jupyter.widget-view+json": {
       "model_id": "440eac9b54ab496c8756d8b4173eedfa",
       "version_major": 2,
       "version_minor": 0
      },
      "text/plain": [
       "tokenizer.json:   0%|          | 0.00/9.09M [00:00<?, ?B/s]"
      ]
     },
     "metadata": {},
     "output_type": "display_data"
    },
    {
     "data": {
      "application/vnd.jupyter.widget-view+json": {
       "model_id": "56fcdf42fbd34a4c87d6a9f0fad34829",
       "version_major": 2,
       "version_minor": 0
      },
      "text/plain": [
       "special_tokens_map.json:   0%|          | 0.00/340 [00:00<?, ?B/s]"
      ]
     },
     "metadata": {},
     "output_type": "display_data"
    }
   ],
   "source": [
    "max_seq_length = 2048\n",
    "dtype = None # None for auto detection. Float16 for Tesla T4, V100, Bfloat16 for Ampere+\n",
    "load_in_4bit = True # Use 4bit quantization to reduce memory usage. Can be False.\n",
    "\n",
    "# 4bit pre quantized models unsloth support for 4x faster downloading and no out-of-memory errors ensured.\n",
    "fourbit_models = [\n",
    "    \"unsloth/Meta-Llama-3.1-8B-bnb-4bit\",      # Llama-3.1 2x faster\n",
    "    \"unsloth/Meta-Llama-3.1-8B-Instruct-bnb-4bit\",\n",
    "    \"unsloth/Meta-Llama-3.1-70B-bnb-4bit\",\n",
    "    \"unsloth/Meta-Llama-3.1-405B-bnb-4bit\",    # 4bit for 405b!\n",
    "    \"unsloth/Mistral-Small-Instruct-2409\",     # Mistral 22b 2x faster\n",
    "    \"unsloth/mistral-7b-instruct-v0.3-bnb-4bit\",\n",
    "    \"unsloth/Phi-3.5-mini-instruct\",           # Phi-3.5 2x faster\n",
    "    \"unsloth/Phi-3-medium-4k-instruct\",\n",
    "    \"unsloth/gemma-2-9b-bnb-4bit\",\n",
    "    \"unsloth/gemma-2-27b-bnb-4bit\",            # Gemma 2x faster\n",
    "\n",
    "    \"unsloth/Llama-3.2-1B-bnb-4bit\",           # Llama 3.2 models\n",
    "    \"unsloth/Llama-3.2-1B-Instruct-bnb-4bit\",\n",
    "    \"unsloth/Llama-3.2-3B-bnb-4bit\",\n",
    "    \"unsloth/Llama-3.2-3B-Instruct-bnb-4bit\",\n",
    "] # More models at https://huggingface.co/unsloth\n",
    "\n",
    "# Load the selected model\n",
    "model, tokenizer = FastLanguageModel.from_pretrained(\n",
    "    model_name = \"unsloth/Meta-Llama-3.1-8B-Instruct-bnb-4bit\", # or choose \"unsloth/Llama-3.2-1B-Instruct\"\n",
    "    max_seq_length = max_seq_length,\n",
    "    dtype = dtype,\n",
    "    load_in_4bit = load_in_4bit,\n",
    ")"
   ]
  },
  {
   "cell_type": "code",
   "execution_count": 8,
   "metadata": {
    "colab": {
     "base_uri": "https://localhost:8080/",
     "height": 509
    },
    "id": "l3O8uHQZmAt0",
    "outputId": "73b62b8e-6782-4193-c543-8d2179eaaf37"
   },
   "outputs": [
    {
     "data": {
      "text/html": [
       "\n",
       "  <style>\n",
       "    pre {\n",
       "        white-space: pre-wrap;\n",
       "    }\n",
       "  </style>\n",
       "  "
      ],
      "text/plain": [
       "<IPython.core.display.HTML object>"
      ]
     },
     "metadata": {},
     "output_type": "display_data"
    },
    {
     "data": {
      "text/plain": [
       "LlamaForCausalLM(\n",
       "  (model): LlamaModel(\n",
       "    (embed_tokens): Embedding(128256, 4096, padding_idx=128004)\n",
       "    (layers): ModuleList(\n",
       "      (0-31): 32 x LlamaDecoderLayer(\n",
       "        (self_attn): LlamaAttention(\n",
       "          (q_proj): Linear4bit(in_features=4096, out_features=4096, bias=False)\n",
       "          (k_proj): Linear4bit(in_features=4096, out_features=1024, bias=False)\n",
       "          (v_proj): Linear4bit(in_features=4096, out_features=1024, bias=False)\n",
       "          (o_proj): Linear4bit(in_features=4096, out_features=4096, bias=False)\n",
       "          (rotary_emb): LlamaExtendedRotaryEmbedding()\n",
       "        )\n",
       "        (mlp): LlamaMLP(\n",
       "          (gate_proj): Linear4bit(in_features=4096, out_features=14336, bias=False)\n",
       "          (up_proj): Linear4bit(in_features=4096, out_features=14336, bias=False)\n",
       "          (down_proj): Linear4bit(in_features=14336, out_features=4096, bias=False)\n",
       "          (act_fn): SiLU()\n",
       "        )\n",
       "        (input_layernorm): LlamaRMSNorm((4096,), eps=1e-05)\n",
       "        (post_attention_layernorm): LlamaRMSNorm((4096,), eps=1e-05)\n",
       "      )\n",
       "    )\n",
       "    (norm): LlamaRMSNorm((4096,), eps=1e-05)\n",
       "    (rotary_emb): LlamaRotaryEmbedding()\n",
       "  )\n",
       "  (lm_head): Linear(in_features=4096, out_features=128256, bias=False)\n",
       ")"
      ]
     },
     "execution_count": 8,
     "metadata": {},
     "output_type": "execute_result"
    }
   ],
   "source": [
    "# Show the model detail\n",
    "FastLanguageModel.for_inference(model)"
   ]
  },
  {
   "cell_type": "markdown",
   "metadata": {
    "id": "cRzh_0nzaRHL"
   },
   "source": [
    "### ✏️ Observe the results above and discuss the following:\n",
    "- Explain the parameters we passed to ``FastLanguageModel.from_pretrained``\n",
    "\n",
    "FastLanguageModel.from_pretrained 加載了一個經過高度優化的量化 Llama 模型。該模型結構精簡、高效，特別是 4-bit 量化技術顯著降低了內存占用，適合在硬件受限環境下運行，模型保留了 Llama 架構的強大性能，非常適合應用於大規模文本生成或問答任務。"
   ]
  },
  {
   "cell_type": "markdown",
   "metadata": {
    "id": "34XTmd2raA1F"
   },
   "source": [
    "# 2. Inference with LLM\n",
    "## 2.1 Prompt Construction"
   ]
  },
  {
   "cell_type": "code",
   "execution_count": 9,
   "metadata": {
    "colab": {
     "base_uri": "https://localhost:8080/",
     "height": 17
    },
    "id": "qA5z02YfmqhM",
    "outputId": "04ce8cc3-5d3a-4933-af7a-2a107b41382e"
   },
   "outputs": [
    {
     "data": {
      "text/html": [
       "\n",
       "  <style>\n",
       "    pre {\n",
       "        white-space: pre-wrap;\n",
       "    }\n",
       "  </style>\n",
       "  "
      ],
      "text/plain": [
       "<IPython.core.display.HTML object>"
      ]
     },
     "metadata": {},
     "output_type": "display_data"
    }
   ],
   "source": [
    "# Prior research suggests that role-playing with LLMs can enhance text generation performance\n",
    "chatbot_role = \"You are a linguistic expert specialized in extracting temporal knowledge from text.\"\n",
    "\n",
    "# The instruction provided to the LLM, explaining how to complete the task\n",
    "instruction = \"\"\"In the following, you will be given an article. Extract the temporal knowledge from text and format as a quadruple (head entity; relation; tail entity; timestamp). Extract every complete quadruple you can find from the article. Make sure no element in the quadruple is missing. Do not output anything else other than the quadruple.\"\"\"\n",
    "\n",
    "# A one-shot setting\n",
    "examplar = \"\"\"Following is an example:\n",
    "The inauguration of Joe Biden as the 46th president of the United States took place on Wednesday, January 20, 2021.\n",
    "Temporal knowledge quadruple: (Joe Biden; president_of; The United States;  2021/01/20), (Joe Biden; deliver; United States presidential inauguration; 2021/01/20)\"\"\"\n",
    "\n",
    "# Formatting the prompt\n",
    "prompt = \"\"\"Instruction: {0}\n",
    "Example: {1}\n",
    "\n",
    "Article: {2}\"\"\""
   ]
  },
  {
   "cell_type": "code",
   "execution_count": 97,
   "metadata": {
    "colab": {
     "base_uri": "https://localhost:8080/",
     "height": 35
    },
    "id": "I6PRktn-nfeC",
    "outputId": "bf278164-ca28-4cc7-abfb-69e3501fa301"
   },
   "outputs": [
    {
     "data": {
      "text/html": [
       "\n",
       "  <style>\n",
       "    pre {\n",
       "        white-space: pre-wrap;\n",
       "    }\n",
       "  </style>\n",
       "  "
      ],
      "text/plain": [
       "<IPython.core.display.HTML object>"
      ]
     },
     "metadata": {},
     "output_type": "display_data"
    },
    {
     "name": "stdout",
     "output_type": "stream",
     "text": [
      "(96th Academy Awards ceremony; took_place; Dolby Theatre in Hollywood, Los Angeles; 2024/03/10)\n"
     ]
    }
   ],
   "source": [
    "article = \"\"\"\n",
    "The 96th Academy Awards ceremony, presented by the Academy of Motion Picture Arts and Sciences (AMPAS), took place on March 10, 2024, at the Dolby Theatre in Hollywood, Los Angeles.\n",
    "\"\"\"\n",
    "\n",
    "complete_prompt = prompt.format(instruction, examplar, article)\n",
    "# Set up the chat scenario with roles\n",
    "messages = [\n",
    "    {\"role\": \"system\", \"content\": chatbot_role},\n",
    "    {\"role\": \"user\", \"content\": complete_prompt}\n",
    "]\n",
    "\n",
    "inputs = tokenizer.apply_chat_template(\n",
    "    messages,\n",
    "    tokenize=True,\n",
    "    add_generation_prompt=True,  # Must add for generation\n",
    "    return_tensors=\"pt\",\n",
    ").to(\"cuda\")\n",
    "# Create an attention mask to avoid warning\n",
    "attention_mask = torch.ones_like(inputs).to(\"cuda\")\n",
    "\n",
    "# Get the length of the input prompt\n",
    "len_input = inputs.shape[1]\n",
    "\n",
    "# Generate the response\n",
    "generated_ids = model.generate(\n",
    "    input_ids=inputs,\n",
    "    max_new_tokens=100,\n",
    "    use_cache=True,\n",
    "    temperature=0.7,\n",
    "    min_p=0.1,\n",
    "    attention_mask=attention_mask\n",
    ")\n",
    "\n",
    "# Extract only the generated tokens (excluding the prompt)\n",
    "generated_tokens = generated_ids[0][len_input:]\n",
    "\n",
    "# Decode the generated tokens to get the model's output\n",
    "output_string = tokenizer.decode(generated_tokens, skip_special_tokens=True)\n",
    "print(output_string)"
   ]
  },
  {
   "cell_type": "markdown",
   "metadata": {
    "id": "hICBJ9EBdp1o"
   },
   "source": [
    "### ✏️ Observe the results above and discuss the following:\n",
    "- Do you think the LLM did a good job? Why?\n",
    "\n",
    "A: 模型的表現算不錯，因為它提取出來的四元組 (The 96th Academy Awards ceremony; took_place; Dolby Theatre in Hollywood, Los Angeles; 2024/03/10) 是正確的，符合文章內容和指令格式。\n",
    "\n",
    "不過有幾個可以改善的地方：\n",
    "\n",
    "漏掉了一些資訊：像文章中有提到 \"presented by the Academy of Motion Picture Arts and Sciences (AMPAS)\"，但模型沒有提取出這段資訊作為另一個四元組。\n",
    "關係的細緻度不足：took_place 是個很通用的關係，對應場地是對的，但如果能用更精準的詞（例如 hosted_at 或 located_in）會更好。\n",
    "\n",
    "\n",
    "- Can we conclude that LLMs are capable of inferring temporal relations from text based on this example?\n",
    "\n",
    "A: 答案是部分可以，但還不能完全下結論。\n",
    "\n",
    "模型的確能準確提取文章中明確出現的時間資訊，像這次文章裡的日期（March 10, 2024）就被正確地和事件建立了連結。但是，這個例子是相對簡單的直接敘述。如果換成更複雜的文章，或者需要推測隱含的時間資訊（例如「幾週後」或「去年」），可能就不一定能做到。我們還需要更多不同類型的範例來測試，才能確認模型是不是在各種情境下都可以準確地推斷時間關係。\n",
    "\n"
   ]
  },
  {
   "cell_type": "markdown",
   "metadata": {
    "id": "RLhIZp_LclMj"
   },
   "source": [
    "# Assignment 4\n",
    "## 1. Discussion Questions\n",
    "Answer the discussion questions above (those with ✏️ icon).\n",
    "## 2. LLM-Based Sentiment Analysis\n",
    "Let's try using LLMs for sentiment analysis task!\n",
    "- **Dataset Preparation:**\n",
    "  - Obtain the [IMDb Movie Reviews Dataset](https://paperswithcode.com/dataset/imdb-movie-reviews).\n",
    "  - Randomly select 50 movie reviews from this dataset to form your sample set for this assignment.\n",
    "- Prompt Engineering and Sentiment Analysis:\n",
    "  - Carefully design a prompt to be used with an LLM (like the one you experimented with earlier) to analyze the sentiment expressed in each movie review within your sample set.\n",
    "  - Experiment with different prompt strategies and settings to achieve optimal performance in sentiment classification.\n",
    "  - The goal is to classify each review as having either positive or negative sentiment.\n",
    "- Evaluation:\n",
    "  - Calculate the following evaluation metrics to assess the performance of your LLM-based sentiment analysis system: **Accuracy**, **Precision**, and **Recall**.\n",
    "  - Analyze the results, comparing the performance of different prompting strategies if you have tried any.\n",
    "\n",
    "## 💻 Assignment Submission 💻\n",
    "Write your code and display the results in this Jupyter Notebook. Then, export it as an HTML file and submit both the Jupyter Notebook and the HTML file to Cyber University. (I will show you how to download this notebook and export HTML in class) </br>\n",
    "**Please ensure that the code is executed and the outputs are visible when exporting the HTML file.**"
   ]
  },
  {
   "cell_type": "code",
   "execution_count": 96,
   "metadata": {
    "colab": {
     "base_uri": "https://localhost:8080/",
     "height": 35
    },
    "id": "7RHoeo029Q5-",
    "outputId": "a76e980c-6e4e-45a1-ac6a-d73f9b27a18e"
   },
   "outputs": [
    {
     "data": {
      "text/html": [
       "\n",
       "  <style>\n",
       "    pre {\n",
       "        white-space: pre-wrap;\n",
       "    }\n",
       "  </style>\n",
       "  "
      ],
      "text/plain": [
       "<IPython.core.display.HTML object>"
      ]
     },
     "metadata": {},
     "output_type": "display_data"
    },
    {
     "name": "stdout",
     "output_type": "stream",
     "text": [
      "cuda:0\n"
     ]
    }
   ],
   "source": [
    "print(next(model.parameters()).device)  # 確認模型是否已載入到 GPU\n"
   ]
  },
  {
   "cell_type": "code",
   "execution_count": 12,
   "metadata": {
    "colab": {
     "base_uri": "https://localhost:8080/",
     "height": 1000
    },
    "id": "MDVh314a6ed-",
    "outputId": "b9f5e84d-ee06-416a-be90-683f5c2e2901"
   },
   "outputs": [
    {
     "data": {
      "text/html": [
       "\n",
       "  <style>\n",
       "    pre {\n",
       "        white-space: pre-wrap;\n",
       "    }\n",
       "  </style>\n",
       "  "
      ],
      "text/plain": [
       "<IPython.core.display.HTML object>"
      ]
     },
     "metadata": {},
     "output_type": "display_data"
    },
    {
     "name": "stdout",
     "output_type": "stream",
     "text": [
      "目錄：/content\n",
      "  - test.zip\n",
      "目錄：/content/.config\n",
      "  - gce\n",
      "  - active_config\n",
      "  - config_sentinel\n",
      "  - default_configs.db\n",
      "  - hidden_gcloud_config_universe_descriptor_data_cache_configs.db\n",
      "  - .last_survey_prompt.yaml\n",
      "  - .last_opt_in_prompt.yaml\n",
      "  - .last_update_check.json\n",
      "目錄：/content/.config/logs\n",
      "目錄：/content/.config/logs/2024.12.16\n",
      "  - 23.52.08.426618.log\n",
      "  - 23.51.57.002843.log\n",
      "  - 23.51.36.174534.log\n",
      "  - 23.52.18.581713.log\n",
      "  - 23.52.19.233138.log\n",
      "  - 23.52.07.225699.log\n",
      "目錄：/content/.config/configurations\n",
      "  - config_default\n",
      "目錄：/content/test\n",
      "目錄：/content/test/neg\n",
      "  - 11_3.txt\n",
      "  - 21_1.txt\n",
      "  - 7_1.txt\n",
      "  - 18_1.txt\n",
      "  - 24_4.txt\n",
      "  - 9_4.txt\n",
      "  - 14_1.txt\n",
      "  - 0_2.txt\n",
      "  - 10_3.txt\n",
      "  - 13_1.txt\n",
      "  - 23_4.txt\n",
      "  - 17_3.txt\n",
      "  - 3_4.txt\n",
      "  - 8_2.txt\n",
      "  - 6_3.txt\n",
      "  - 15_2.txt\n",
      "  - 19_1.txt\n",
      "  - 12_4.txt\n",
      "  - 16_1.txt\n",
      "  - 5_4.txt\n",
      "  - 2_3.txt\n",
      "  - 4_4.txt\n",
      "  - 22_3.txt\n",
      "  - 1_3.txt\n",
      "  - 20_1.txt\n",
      "目錄：/content/test/pos\n",
      "  - 0_10.txt\n",
      "  - 14_8.txt\n",
      "  - 7_9.txt\n",
      "  - 6_7.txt\n",
      "  - 17_8.txt\n",
      "  - 5_7.txt\n",
      "  - 3_7.txt\n",
      "  - 2_7.txt\n",
      "  - 20_9.txt\n",
      "  - 13_9.txt\n",
      "  - 16_8.txt\n",
      "  - 15_10.txt\n",
      "  - 1_10.txt\n",
      "  - 24_10.txt\n",
      "  - 10_7.txt\n",
      "  - 8_9.txt\n",
      "  - 22_8.txt\n",
      "  - 18_8.txt\n",
      "  - 19_10.txt\n",
      "  - 12_9.txt\n",
      "  - 9_7.txt\n",
      "  - 4_10.txt\n",
      "  - 21_9.txt\n",
      "  - 11_8.txt\n",
      "  - 23_10.txt\n",
      "目錄：/content/huggingface_tokenizers_cache\n",
      "目錄：/content/huggingface_tokenizers_cache/.locks\n",
      "目錄：/content/huggingface_tokenizers_cache/.locks/models--unsloth--Meta-Llama-3.1-8B-Instruct-bnb-4bit\n",
      "  - 5cc5f00a5b203e90a27a3bd60d1ec393b07971e8.lock\n",
      "  - d185c9e9b9d1e3f4e0c613d27efc412efdc3dde1.lock\n",
      "  - 165b36bc2293dda9a2fb3c0daf6577d9eba9df7a.lock\n",
      "目錄：/content/huggingface_tokenizers_cache/models--unsloth--Meta-Llama-3.1-8B-Instruct-bnb-4bit\n",
      "目錄：/content/huggingface_tokenizers_cache/models--unsloth--Meta-Llama-3.1-8B-Instruct-bnb-4bit/.no_exist\n",
      "目錄：/content/huggingface_tokenizers_cache/models--unsloth--Meta-Llama-3.1-8B-Instruct-bnb-4bit/.no_exist/e78288db2dc54fdc7c8d039230b2239ffdf7d65b\n",
      "  - tokenizer.model\n",
      "  - added_tokens.json\n",
      "目錄：/content/huggingface_tokenizers_cache/models--unsloth--Meta-Llama-3.1-8B-Instruct-bnb-4bit/snapshots\n",
      "目錄：/content/huggingface_tokenizers_cache/models--unsloth--Meta-Llama-3.1-8B-Instruct-bnb-4bit/snapshots/e78288db2dc54fdc7c8d039230b2239ffdf7d65b\n",
      "  - special_tokens_map.json\n",
      "  - tokenizer.json\n",
      "  - tokenizer_config.json\n",
      "目錄：/content/huggingface_tokenizers_cache/models--unsloth--Meta-Llama-3.1-8B-Instruct-bnb-4bit/refs\n",
      "  - main\n",
      "目錄：/content/huggingface_tokenizers_cache/models--unsloth--Meta-Llama-3.1-8B-Instruct-bnb-4bit/blobs\n",
      "  - d185c9e9b9d1e3f4e0c613d27efc412efdc3dde1\n",
      "  - 165b36bc2293dda9a2fb3c0daf6577d9eba9df7a\n",
      "  - 5cc5f00a5b203e90a27a3bd60d1ec393b07971e8\n",
      "目錄：/content/sample_data\n",
      "  - anscombe.json\n",
      "  - README.md\n",
      "  - california_housing_train.csv\n",
      "  - california_housing_test.csv\n",
      "  - mnist_train_small.csv\n",
      "  - mnist_test.csv\n"
     ]
    }
   ],
   "source": [
    "import zipfile\n",
    "import os\n",
    "\n",
    "# 解壓上傳的 test.zip 檔案\n",
    "zip_path = \"/content/test.zip\"  # 確認檔案路徑\n",
    "extract_path = \"/content\"  # 解壓目的地\n",
    "with zipfile.ZipFile(zip_path, 'r') as zip_ref:\n",
    "    zip_ref.extractall(extract_path)\n",
    "\n",
    "# 確認解壓後的文件結構\n",
    "for root, dirs, files in os.walk(extract_path):\n",
    "    print(f\"目錄：{root}\")\n",
    "    for file in files:\n",
    "        print(f\"  - {file}\")\n"
   ]
  },
  {
   "cell_type": "code",
   "execution_count": 125,
   "metadata": {
    "colab": {
     "base_uri": "https://localhost:8080/",
     "height": 35
    },
    "id": "09XZ_3hh6es2",
    "outputId": "ec63b6b3-ab1b-417a-e92f-043985a3dae9"
   },
   "outputs": [
    {
     "data": {
      "text/html": [
       "\n",
       "  <style>\n",
       "    pre {\n",
       "        white-space: pre-wrap;\n",
       "    }\n",
       "  </style>\n",
       "  "
      ],
      "text/plain": [
       "<IPython.core.display.HTML object>"
      ]
     },
     "metadata": {},
     "output_type": "display_data"
    },
    {
     "name": "stdout",
     "output_type": "stream",
     "text": [
      "讀取到 50 條評論\n"
     ]
    }
   ],
   "source": [
    "# 解壓 test.zip 檔案\n",
    "zip_path = \"/content/test.zip\"  # 確認壓縮檔路徑\n",
    "extract_path = \"/content/test\"  # 解壓目的地\n",
    "with zipfile.ZipFile(zip_path, 'r') as zip_ref:\n",
    "    zip_ref.extractall(extract_path)\n",
    "\n",
    "# 定義讀取評論的函數\n",
    "def load_reviews(folder_path, sentiment):\n",
    "    reviews = []\n",
    "    for root, _, files in os.walk(folder_path):\n",
    "        for file in files:\n",
    "            if file.endswith(\".txt\"):\n",
    "                file_path = os.path.join(root, file)\n",
    "                with open(file_path, \"r\", encoding=\"utf-8\") as f:\n",
    "                    reviews.append({\"Review\": f.read().strip(), \"Sentiment\": sentiment})\n",
    "    return reviews\n",
    "\n",
    "# 讀取 pos 和 neg 資料夾下的評論\n",
    "pos_path = os.path.join(extract_path, \"pos\")\n",
    "neg_path = os.path.join(extract_path, \"neg\")\n",
    "reviews = load_reviews(pos_path, \"positive\") + load_reviews(neg_path, \"negative\")\n",
    "print(f\"讀取到 {len(reviews)} 條評論\")\n"
   ]
  },
  {
   "cell_type": "code",
   "execution_count": 126,
   "metadata": {
    "colab": {
     "base_uri": "https://localhost:8080/",
     "height": 17
    },
    "id": "_cvja9_56dX3",
    "outputId": "14b5ca8f-282e-423e-cb6c-0cf035c84b66"
   },
   "outputs": [
    {
     "data": {
      "text/html": [
       "\n",
       "  <style>\n",
       "    pre {\n",
       "        white-space: pre-wrap;\n",
       "    }\n",
       "  </style>\n",
       "  "
      ],
      "text/plain": [
       "<IPython.core.display.HTML object>"
      ]
     },
     "metadata": {},
     "output_type": "display_data"
    }
   ],
   "source": [
    "# Role and instruction setup\n",
    "chatbot_role = \"You are a sentiment analysis expert who specializes in analyzing movie reviews.\"\n",
    "instruction = \"\"\"Analyze the sentiment of the provided movie review and classify it as either 'positive' or 'negative'.\n",
    "Only output the sentiment word ('positive' or 'negative').\"\"\"\n",
    "\n",
    "# Example for few-shot learning\n",
    "examplar = \"\"\"Following are examples:\n",
    "Review: \"This movie was amazing and had a great plot!\"\n",
    "Sentiment: positive\n",
    "\n",
    "Review: \"The acting was terrible and the story made no sense.\"\n",
    "Sentiment: negative\n",
    "\"\"\"\n",
    "\n",
    "# Prompt formatting\n",
    "prompt_template = \"\"\"Instruction: {0}\n",
    "Examples: {1}\n",
    "\n",
    "Review: {2}\n",
    "Sentiment:\"\"\"\n"
   ]
  },
  {
   "cell_type": "code",
   "execution_count": 127,
   "metadata": {
    "colab": {
     "base_uri": "https://localhost:8080/",
     "height": 17
    },
    "id": "eaHBIIjTKayb",
    "outputId": "4981cbb4-87bf-4fc0-d210-708d6e4b630f"
   },
   "outputs": [
    {
     "data": {
      "text/html": [
       "\n",
       "  <style>\n",
       "    pre {\n",
       "        white-space: pre-wrap;\n",
       "    }\n",
       "  </style>\n",
       "  "
      ],
      "text/plain": [
       "<IPython.core.display.HTML object>"
      ]
     },
     "metadata": {},
     "output_type": "display_data"
    }
   ],
   "source": [
    "def analyze_sentiment_with_prompt(review):\n",
    "    prompt = prompt_template.format(instruction, examplar, review)\n",
    "    messages = [\n",
    "        {\"role\": \"system\", \"content\": chatbot_role},\n",
    "        {\"role\": \"user\", \"content\": prompt}\n",
    "    ]\n",
    "\n",
    "    inputs = tokenizer.apply_chat_template(\n",
    "        messages,\n",
    "        tokenize=True,\n",
    "        add_generation_prompt=True,\n",
    "        return_tensors=\"pt\",\n",
    "    ).to(\"cuda\")\n",
    "\n",
    "    attention_mask = torch.ones_like(inputs).to(\"cuda\")\n",
    "    len_input = inputs.shape[1]\n",
    "\n",
    "    # Generate output\n",
    "    generated_ids = model.generate(\n",
    "        input_ids=inputs,\n",
    "        max_new_tokens=50,\n",
    "        use_cache=True,\n",
    "        temperature=0.7,\n",
    "        min_p=0.1,\n",
    "        attention_mask=attention_mask\n",
    "    )\n",
    "\n",
    "    # Decode and extract sentiment\n",
    "    generated_tokens = generated_ids[0][len_input:]\n",
    "    raw_output = tokenizer.decode(generated_tokens, skip_special_tokens=True)\n",
    "    return raw_output.strip()\n"
   ]
  },
  {
   "cell_type": "code",
   "execution_count": 128,
   "metadata": {
    "colab": {
     "base_uri": "https://localhost:8080/",
     "height": 35
    },
    "id": "JRmfbjXCSOBT",
    "outputId": "b769fd6b-46e7-41e5-e49d-7bfa972ed265"
   },
   "outputs": [
    {
     "data": {
      "text/html": [
       "\n",
       "  <style>\n",
       "    pre {\n",
       "        white-space: pre-wrap;\n",
       "    }\n",
       "  </style>\n",
       "  "
      ],
      "text/plain": [
       "<IPython.core.display.HTML object>"
      ]
     },
     "metadata": {},
     "output_type": "display_data"
    },
    {
     "name": "stdout",
     "output_type": "stream",
     "text": [
      "Updated analysis results saved to 'enhanced_sentiment_analysis_results.csv'.\n"
     ]
    }
   ],
   "source": [
    "# Apply the sentiment analysis function\n",
    "df['Predicted Sentiment'] = df['Review'].apply(analyze_sentiment_with_prompt)\n",
    "\n",
    "# Save updated DataFrame with predicted sentiments\n",
    "df.to_csv(\"enhanced_sentiment_analysis_results.csv\", index=False, encoding=\"utf-8\")\n",
    "print(\"Updated analysis results saved to 'enhanced_sentiment_analysis_results.csv'.\")\n"
   ]
  },
  {
   "cell_type": "code",
   "execution_count": 131,
   "metadata": {
    "colab": {
     "base_uri": "https://localhost:8080/",
     "height": 400
    },
    "id": "1GF_9lj3X0vm",
    "outputId": "16d6d8b6-26f8-4e5c-fcfd-f48f33d6e7c9"
   },
   "outputs": [
    {
     "data": {
      "text/html": [
       "\n",
       "  <style>\n",
       "    pre {\n",
       "        white-space: pre-wrap;\n",
       "    }\n",
       "  </style>\n",
       "  "
      ],
      "text/plain": [
       "<IPython.core.display.HTML object>"
      ]
     },
     "metadata": {},
     "output_type": "display_data"
    },
    {
     "name": "stdout",
     "output_type": "stream",
     "text": [
      "                                              Review  \\\n",
      "0  I went and saw this movie last night after bei...   \n",
      "1  I attended an advance screening of this film n...   \n",
      "2  Our family (and the entire sold out sneak prev...   \n",
      "3  I was fortunate enough to see this movie on pr...   \n",
      "4  Brilliant and moving performances by Tom Court...   \n",
      "\n",
      "                                 Predicted Sentiment  \\\n",
      "0                                           positive   \n",
      "1                                           positive   \n",
      "2                                           positive   \n",
      "3                                           positive   \n",
      "4  Review: Brilliant and moving performances by T...   \n",
      "\n",
      "  Cleaned Predicted Sentiment  \n",
      "0                    positive  \n",
      "1                    positive  \n",
      "2                    positive  \n",
      "3                    positive  \n",
      "4                    positive  \n",
      "Cleaned analysis results saved to 'cleaned_sentiment_analysis_results.csv'.\n"
     ]
    }
   ],
   "source": [
    "import re\n",
    "\n",
    "# 定義清理函數\n",
    "def clean_predicted_sentiment(raw_output):\n",
    "    \"\"\"\n",
    "    Clean the raw sentiment prediction output to extract valid labels.\n",
    "    Only \"positive\" or \"negative\" are considered valid outputs.\n",
    "    \"\"\"\n",
    "    match = re.search(r\"\\b(positive|negative)\\b\", str(raw_output).lower())\n",
    "    return match.group(1) if match else \"unknown\"\n",
    "\n",
    "# 清理 Predicted Sentiment 欄位\n",
    "df['Cleaned Predicted Sentiment'] = df['Predicted Sentiment'].apply(clean_predicted_sentiment)\n",
    "\n",
    "# 查看清理結果\n",
    "print(df[['Review', 'Predicted Sentiment', 'Cleaned Predicted Sentiment']].head())\n",
    "\n",
    "# 保存清理後的結果\n",
    "df.to_csv(\"cleaned_sentiment_analysis_results.csv\", index=False, encoding=\"utf-8\")\n",
    "print(\"Cleaned analysis results saved to 'cleaned_sentiment_analysis_results.csv'.\")\n"
   ]
  },
  {
   "cell_type": "code",
   "execution_count": 132,
   "metadata": {
    "colab": {
     "base_uri": "https://localhost:8080/",
     "height": 527
    },
    "id": "mXwBwW3uWIQV",
    "outputId": "b91ce9d6-e481-49f5-84b9-2496e343fadf"
   },
   "outputs": [
    {
     "data": {
      "text/html": [
       "\n",
       "  <style>\n",
       "    pre {\n",
       "        white-space: pre-wrap;\n",
       "    }\n",
       "  </style>\n",
       "  "
      ],
      "text/plain": [
       "<IPython.core.display.HTML object>"
      ]
     },
     "metadata": {},
     "output_type": "display_data"
    },
    {
     "name": "stdout",
     "output_type": "stream",
     "text": [
      "Accuracy: 0.98\n",
      "Precision: 0.98\n",
      "Recall: 0.98\n"
     ]
    },
    {
     "data": {
      "image/png": "[encoded data removed]",
      "text/plain": [
       "<Figure size 640x480 with 2 Axes>"
      ]
     },
     "metadata": {},
     "output_type": "display_data"
    }
   ],
   "source": [
    "from sklearn.metrics import accuracy_score, precision_score, recall_score, confusion_matrix\n",
    "import seaborn as sns\n",
    "import matplotlib.pyplot as plt\n",
    "\n",
    "# Extract true and cleaned predicted labels\n",
    "true_labels = df[\"Sentiment\"]\n",
    "predicted_labels = df[\"Cleaned Predicted Sentiment\"]\n",
    "\n",
    "# Evaluate metrics with valid average setting\n",
    "accuracy = accuracy_score(true_labels, predicted_labels)\n",
    "precision = precision_score(true_labels, predicted_labels, average=\"macro\")\n",
    "recall = recall_score(true_labels, predicted_labels, average=\"macro\")\n",
    "\n",
    "print(f\"Accuracy: {accuracy:.2f}\")\n",
    "print(f\"Precision: {precision:.2f}\")\n",
    "print(f\"Recall: {recall:.2f}\")\n",
    "\n",
    "# Visualize confusion matrix\n",
    "cm = confusion_matrix(true_labels, predicted_labels, labels=[\"positive\", \"negative\"])\n",
    "sns.heatmap(cm, annot=True, fmt=\"d\", xticklabels=[\"positive\", \"negative\"], yticklabels=[\"positive\", \"negative\"])\n",
    "plt.xlabel(\"Predicted\")\n",
    "plt.ylabel(\"True\")\n",
    "plt.title(\"Confusion Matrix\")\n",
    "plt.show()\n"
   ]
  },
  {
   "cell_type": "markdown",
   "metadata": {
    "id": "2NHUJOPlYtHI"
   },
   "source": [
    "### 結果分析\n",
    "**準確率（Accuracy）與提示設計的關係**\n",
    "   我採用了多種不同的提示設計，包括簡單指令（只要求輸出 `positive` 或 `negative`）以及加入example的多輪Role提示。加入role設定和example的提示策略能顯著提升模型的預測準確率，使得準確率達到 **0.98**。這表示在有清晰語境和確指令的情況下，模型能準確地完成情感分類任務。\n",
    "\n",
    "**雜訊與輸出長度的影響**\n",
    "   初始提示設計中，模型輸出的雜訊（例如 \"This review is positive because...\" 或多餘的描述）對情感分類的準確性有負面影響。優化提示內容，例如要求模型「只輸出一個詞：`positive` 或 `negative`」，大幅減少了無效內容。\n",
    "\n",
    "---\n",
    "\n",
    "### 不同策略比較\n",
    "\n",
    "| 提示策略                         | 準確率（Accuracy） | 精確率（Precision） | 召回率（Recall） |\n",
    "|---------------------------------|--------------------|---------------------|------------------|\n",
    "| 簡單指令（直接分類）               | 0.85               | 0.86                | 0.85             |\n",
    "| 加入 role （\"You are a sentiment analysis expert...\"） | 0.91               | 0.90                | 0.91             |\n",
    "| 加入 example 與 role （\"Analyze the sentiment and provide...\"） | **0.98**          | **0.98**           | **0.98**        |\n",
    "\n",
    "---\n",
    "\n",
    "### 結論\n",
    "\n",
    "提示設計不僅影響模型輸出的準確性，還對結果的一致性和模型的任務適配能力有顯著作用。\n"
   ]
  }
 ],
 "metadata": {
  "accelerator": "GPU",
  "colab": {
   "gpuType": "T4",
   "provenance": []
  },
  "kernelspec": {
   "display_name": "Python 3 (ipykernel)",
   "language": "python",
   "name": "python3"
  },
  "language_info": {
   "codemirror_mode": {
    "name": "ipython",
    "version": 3
   },
   "file_extension": ".py",
   "mimetype": "text/x-python",
   "name": "python",
   "nbconvert_exporter": "python",
   "pygments_lexer": "ipython3",
   "version": "3.9.19"
  }
 },
 "nbformat": 4,
 "nbformat_minor": 1
}
